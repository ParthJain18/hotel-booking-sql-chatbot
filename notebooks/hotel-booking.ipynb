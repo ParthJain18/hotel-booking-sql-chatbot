{
 "cells": [
  {
   "cell_type": "code",
   "execution_count": 1,
   "id": "37e87055",
   "metadata": {
    "_cell_guid": "b1076dfc-b9ad-4769-8c92-a6c4dae69d19",
    "_uuid": "8f2839f25d086af736a60e9eeb907d3b93b6e0e5",
    "execution": {
     "iopub.execute_input": "2025-03-19T05:12:22.650590Z",
     "iopub.status.busy": "2025-03-19T05:12:22.650063Z",
     "iopub.status.idle": "2025-03-19T05:12:23.657420Z",
     "shell.execute_reply": "2025-03-19T05:12:23.656149Z"
    },
    "papermill": {
     "duration": 1.018871,
     "end_time": "2025-03-19T05:12:23.659676",
     "exception": false,
     "start_time": "2025-03-19T05:12:22.640805",
     "status": "completed"
    },
    "tags": []
   },
   "outputs": [],
   "source": [
    "import pandas as pd"
   ]
  },
  {
   "cell_type": "code",
   "execution_count": 2,
   "id": "18d16225",
   "metadata": {
    "execution": {
     "iopub.execute_input": "2025-03-19T05:12:23.676844Z",
     "iopub.status.busy": "2025-03-19T05:12:23.676332Z",
     "iopub.status.idle": "2025-03-19T05:12:24.293854Z",
     "shell.execute_reply": "2025-03-19T05:12:24.292874Z"
    },
    "papermill": {
     "duration": 0.628204,
     "end_time": "2025-03-19T05:12:24.295771",
     "exception": false,
     "start_time": "2025-03-19T05:12:23.667567",
     "status": "completed"
    },
    "tags": []
   },
   "outputs": [],
   "source": [
    "df = pd.read_csv(\"/kaggle/input/hotel-booking-demand/hotel_bookings.csv\")"
   ]
  },
  {
   "cell_type": "code",
   "execution_count": 3,
   "id": "7c8c314b",
   "metadata": {
    "execution": {
     "iopub.execute_input": "2025-03-19T05:12:24.312680Z",
     "iopub.status.busy": "2025-03-19T05:12:24.312342Z",
     "iopub.status.idle": "2025-03-19T05:12:24.450020Z",
     "shell.execute_reply": "2025-03-19T05:12:24.449000Z"
    },
    "papermill": {
     "duration": 0.148277,
     "end_time": "2025-03-19T05:12:24.451683",
     "exception": false,
     "start_time": "2025-03-19T05:12:24.303406",
     "status": "completed"
    },
    "tags": []
   },
   "outputs": [
    {
     "data": {
      "text/html": [
       "<div>\n",
       "<style scoped>\n",
       "    .dataframe tbody tr th:only-of-type {\n",
       "        vertical-align: middle;\n",
       "    }\n",
       "\n",
       "    .dataframe tbody tr th {\n",
       "        vertical-align: top;\n",
       "    }\n",
       "\n",
       "    .dataframe thead th {\n",
       "        text-align: right;\n",
       "    }\n",
       "</style>\n",
       "<table border=\"1\" class=\"dataframe\">\n",
       "  <thead>\n",
       "    <tr style=\"text-align: right;\">\n",
       "      <th></th>\n",
       "      <th>is_canceled</th>\n",
       "      <th>lead_time</th>\n",
       "      <th>arrival_date_year</th>\n",
       "      <th>arrival_date_week_number</th>\n",
       "      <th>arrival_date_day_of_month</th>\n",
       "      <th>stays_in_weekend_nights</th>\n",
       "      <th>stays_in_week_nights</th>\n",
       "      <th>adults</th>\n",
       "      <th>children</th>\n",
       "      <th>babies</th>\n",
       "      <th>is_repeated_guest</th>\n",
       "      <th>previous_cancellations</th>\n",
       "      <th>previous_bookings_not_canceled</th>\n",
       "      <th>booking_changes</th>\n",
       "      <th>agent</th>\n",
       "      <th>company</th>\n",
       "      <th>days_in_waiting_list</th>\n",
       "      <th>adr</th>\n",
       "      <th>required_car_parking_spaces</th>\n",
       "      <th>total_of_special_requests</th>\n",
       "    </tr>\n",
       "  </thead>\n",
       "  <tbody>\n",
       "    <tr>\n",
       "      <th>count</th>\n",
       "      <td>119390.000000</td>\n",
       "      <td>119390.000000</td>\n",
       "      <td>119390.000000</td>\n",
       "      <td>119390.000000</td>\n",
       "      <td>119390.000000</td>\n",
       "      <td>119390.000000</td>\n",
       "      <td>119390.000000</td>\n",
       "      <td>119390.000000</td>\n",
       "      <td>119386.000000</td>\n",
       "      <td>119390.000000</td>\n",
       "      <td>119390.000000</td>\n",
       "      <td>119390.000000</td>\n",
       "      <td>119390.000000</td>\n",
       "      <td>119390.000000</td>\n",
       "      <td>103050.000000</td>\n",
       "      <td>6797.000000</td>\n",
       "      <td>119390.000000</td>\n",
       "      <td>119390.000000</td>\n",
       "      <td>119390.000000</td>\n",
       "      <td>119390.000000</td>\n",
       "    </tr>\n",
       "    <tr>\n",
       "      <th>mean</th>\n",
       "      <td>0.370416</td>\n",
       "      <td>104.011416</td>\n",
       "      <td>2016.156554</td>\n",
       "      <td>27.165173</td>\n",
       "      <td>15.798241</td>\n",
       "      <td>0.927599</td>\n",
       "      <td>2.500302</td>\n",
       "      <td>1.856403</td>\n",
       "      <td>0.103890</td>\n",
       "      <td>0.007949</td>\n",
       "      <td>0.031912</td>\n",
       "      <td>0.087118</td>\n",
       "      <td>0.137097</td>\n",
       "      <td>0.221124</td>\n",
       "      <td>86.693382</td>\n",
       "      <td>189.266735</td>\n",
       "      <td>2.321149</td>\n",
       "      <td>101.831122</td>\n",
       "      <td>0.062518</td>\n",
       "      <td>0.571363</td>\n",
       "    </tr>\n",
       "    <tr>\n",
       "      <th>std</th>\n",
       "      <td>0.482918</td>\n",
       "      <td>106.863097</td>\n",
       "      <td>0.707476</td>\n",
       "      <td>13.605138</td>\n",
       "      <td>8.780829</td>\n",
       "      <td>0.998613</td>\n",
       "      <td>1.908286</td>\n",
       "      <td>0.579261</td>\n",
       "      <td>0.398561</td>\n",
       "      <td>0.097436</td>\n",
       "      <td>0.175767</td>\n",
       "      <td>0.844336</td>\n",
       "      <td>1.497437</td>\n",
       "      <td>0.652306</td>\n",
       "      <td>110.774548</td>\n",
       "      <td>131.655015</td>\n",
       "      <td>17.594721</td>\n",
       "      <td>50.535790</td>\n",
       "      <td>0.245291</td>\n",
       "      <td>0.792798</td>\n",
       "    </tr>\n",
       "    <tr>\n",
       "      <th>min</th>\n",
       "      <td>0.000000</td>\n",
       "      <td>0.000000</td>\n",
       "      <td>2015.000000</td>\n",
       "      <td>1.000000</td>\n",
       "      <td>1.000000</td>\n",
       "      <td>0.000000</td>\n",
       "      <td>0.000000</td>\n",
       "      <td>0.000000</td>\n",
       "      <td>0.000000</td>\n",
       "      <td>0.000000</td>\n",
       "      <td>0.000000</td>\n",
       "      <td>0.000000</td>\n",
       "      <td>0.000000</td>\n",
       "      <td>0.000000</td>\n",
       "      <td>1.000000</td>\n",
       "      <td>6.000000</td>\n",
       "      <td>0.000000</td>\n",
       "      <td>-6.380000</td>\n",
       "      <td>0.000000</td>\n",
       "      <td>0.000000</td>\n",
       "    </tr>\n",
       "    <tr>\n",
       "      <th>25%</th>\n",
       "      <td>0.000000</td>\n",
       "      <td>18.000000</td>\n",
       "      <td>2016.000000</td>\n",
       "      <td>16.000000</td>\n",
       "      <td>8.000000</td>\n",
       "      <td>0.000000</td>\n",
       "      <td>1.000000</td>\n",
       "      <td>2.000000</td>\n",
       "      <td>0.000000</td>\n",
       "      <td>0.000000</td>\n",
       "      <td>0.000000</td>\n",
       "      <td>0.000000</td>\n",
       "      <td>0.000000</td>\n",
       "      <td>0.000000</td>\n",
       "      <td>9.000000</td>\n",
       "      <td>62.000000</td>\n",
       "      <td>0.000000</td>\n",
       "      <td>69.290000</td>\n",
       "      <td>0.000000</td>\n",
       "      <td>0.000000</td>\n",
       "    </tr>\n",
       "    <tr>\n",
       "      <th>50%</th>\n",
       "      <td>0.000000</td>\n",
       "      <td>69.000000</td>\n",
       "      <td>2016.000000</td>\n",
       "      <td>28.000000</td>\n",
       "      <td>16.000000</td>\n",
       "      <td>1.000000</td>\n",
       "      <td>2.000000</td>\n",
       "      <td>2.000000</td>\n",
       "      <td>0.000000</td>\n",
       "      <td>0.000000</td>\n",
       "      <td>0.000000</td>\n",
       "      <td>0.000000</td>\n",
       "      <td>0.000000</td>\n",
       "      <td>0.000000</td>\n",
       "      <td>14.000000</td>\n",
       "      <td>179.000000</td>\n",
       "      <td>0.000000</td>\n",
       "      <td>94.575000</td>\n",
       "      <td>0.000000</td>\n",
       "      <td>0.000000</td>\n",
       "    </tr>\n",
       "    <tr>\n",
       "      <th>75%</th>\n",
       "      <td>1.000000</td>\n",
       "      <td>160.000000</td>\n",
       "      <td>2017.000000</td>\n",
       "      <td>38.000000</td>\n",
       "      <td>23.000000</td>\n",
       "      <td>2.000000</td>\n",
       "      <td>3.000000</td>\n",
       "      <td>2.000000</td>\n",
       "      <td>0.000000</td>\n",
       "      <td>0.000000</td>\n",
       "      <td>0.000000</td>\n",
       "      <td>0.000000</td>\n",
       "      <td>0.000000</td>\n",
       "      <td>0.000000</td>\n",
       "      <td>229.000000</td>\n",
       "      <td>270.000000</td>\n",
       "      <td>0.000000</td>\n",
       "      <td>126.000000</td>\n",
       "      <td>0.000000</td>\n",
       "      <td>1.000000</td>\n",
       "    </tr>\n",
       "    <tr>\n",
       "      <th>max</th>\n",
       "      <td>1.000000</td>\n",
       "      <td>737.000000</td>\n",
       "      <td>2017.000000</td>\n",
       "      <td>53.000000</td>\n",
       "      <td>31.000000</td>\n",
       "      <td>19.000000</td>\n",
       "      <td>50.000000</td>\n",
       "      <td>55.000000</td>\n",
       "      <td>10.000000</td>\n",
       "      <td>10.000000</td>\n",
       "      <td>1.000000</td>\n",
       "      <td>26.000000</td>\n",
       "      <td>72.000000</td>\n",
       "      <td>21.000000</td>\n",
       "      <td>535.000000</td>\n",
       "      <td>543.000000</td>\n",
       "      <td>391.000000</td>\n",
       "      <td>5400.000000</td>\n",
       "      <td>8.000000</td>\n",
       "      <td>5.000000</td>\n",
       "    </tr>\n",
       "  </tbody>\n",
       "</table>\n",
       "</div>"
      ],
      "text/plain": [
       "         is_canceled      lead_time  arrival_date_year  \\\n",
       "count  119390.000000  119390.000000      119390.000000   \n",
       "mean        0.370416     104.011416        2016.156554   \n",
       "std         0.482918     106.863097           0.707476   \n",
       "min         0.000000       0.000000        2015.000000   \n",
       "25%         0.000000      18.000000        2016.000000   \n",
       "50%         0.000000      69.000000        2016.000000   \n",
       "75%         1.000000     160.000000        2017.000000   \n",
       "max         1.000000     737.000000        2017.000000   \n",
       "\n",
       "       arrival_date_week_number  arrival_date_day_of_month  \\\n",
       "count             119390.000000              119390.000000   \n",
       "mean                  27.165173                  15.798241   \n",
       "std                   13.605138                   8.780829   \n",
       "min                    1.000000                   1.000000   \n",
       "25%                   16.000000                   8.000000   \n",
       "50%                   28.000000                  16.000000   \n",
       "75%                   38.000000                  23.000000   \n",
       "max                   53.000000                  31.000000   \n",
       "\n",
       "       stays_in_weekend_nights  stays_in_week_nights         adults  \\\n",
       "count            119390.000000         119390.000000  119390.000000   \n",
       "mean                  0.927599              2.500302       1.856403   \n",
       "std                   0.998613              1.908286       0.579261   \n",
       "min                   0.000000              0.000000       0.000000   \n",
       "25%                   0.000000              1.000000       2.000000   \n",
       "50%                   1.000000              2.000000       2.000000   \n",
       "75%                   2.000000              3.000000       2.000000   \n",
       "max                  19.000000             50.000000      55.000000   \n",
       "\n",
       "            children         babies  is_repeated_guest  \\\n",
       "count  119386.000000  119390.000000      119390.000000   \n",
       "mean        0.103890       0.007949           0.031912   \n",
       "std         0.398561       0.097436           0.175767   \n",
       "min         0.000000       0.000000           0.000000   \n",
       "25%         0.000000       0.000000           0.000000   \n",
       "50%         0.000000       0.000000           0.000000   \n",
       "75%         0.000000       0.000000           0.000000   \n",
       "max        10.000000      10.000000           1.000000   \n",
       "\n",
       "       previous_cancellations  previous_bookings_not_canceled  \\\n",
       "count           119390.000000                   119390.000000   \n",
       "mean                 0.087118                        0.137097   \n",
       "std                  0.844336                        1.497437   \n",
       "min                  0.000000                        0.000000   \n",
       "25%                  0.000000                        0.000000   \n",
       "50%                  0.000000                        0.000000   \n",
       "75%                  0.000000                        0.000000   \n",
       "max                 26.000000                       72.000000   \n",
       "\n",
       "       booking_changes          agent      company  days_in_waiting_list  \\\n",
       "count    119390.000000  103050.000000  6797.000000         119390.000000   \n",
       "mean          0.221124      86.693382   189.266735              2.321149   \n",
       "std           0.652306     110.774548   131.655015             17.594721   \n",
       "min           0.000000       1.000000     6.000000              0.000000   \n",
       "25%           0.000000       9.000000    62.000000              0.000000   \n",
       "50%           0.000000      14.000000   179.000000              0.000000   \n",
       "75%           0.000000     229.000000   270.000000              0.000000   \n",
       "max          21.000000     535.000000   543.000000            391.000000   \n",
       "\n",
       "                 adr  required_car_parking_spaces  total_of_special_requests  \n",
       "count  119390.000000                119390.000000              119390.000000  \n",
       "mean      101.831122                     0.062518                   0.571363  \n",
       "std        50.535790                     0.245291                   0.792798  \n",
       "min        -6.380000                     0.000000                   0.000000  \n",
       "25%        69.290000                     0.000000                   0.000000  \n",
       "50%        94.575000                     0.000000                   0.000000  \n",
       "75%       126.000000                     0.000000                   1.000000  \n",
       "max      5400.000000                     8.000000                   5.000000  "
      ]
     },
     "execution_count": 3,
     "metadata": {},
     "output_type": "execute_result"
    }
   ],
   "source": [
    "df.describe()"
   ]
  },
  {
   "cell_type": "code",
   "execution_count": 4,
   "id": "7f234a44",
   "metadata": {
    "execution": {
     "iopub.execute_input": "2025-03-19T05:12:24.468525Z",
     "iopub.status.busy": "2025-03-19T05:12:24.468168Z",
     "iopub.status.idle": "2025-03-19T05:12:24.568246Z",
     "shell.execute_reply": "2025-03-19T05:12:24.566575Z"
    },
    "papermill": {
     "duration": 0.110511,
     "end_time": "2025-03-19T05:12:24.570003",
     "exception": false,
     "start_time": "2025-03-19T05:12:24.459492",
     "status": "completed"
    },
    "tags": []
   },
   "outputs": [
    {
     "name": "stdout",
     "output_type": "stream",
     "text": [
      "<class 'pandas.core.frame.DataFrame'>\n",
      "RangeIndex: 119390 entries, 0 to 119389\n",
      "Data columns (total 32 columns):\n",
      " #   Column                          Non-Null Count   Dtype  \n",
      "---  ------                          --------------   -----  \n",
      " 0   hotel                           119390 non-null  object \n",
      " 1   is_canceled                     119390 non-null  int64  \n",
      " 2   lead_time                       119390 non-null  int64  \n",
      " 3   arrival_date_year               119390 non-null  int64  \n",
      " 4   arrival_date_month              119390 non-null  object \n",
      " 5   arrival_date_week_number        119390 non-null  int64  \n",
      " 6   arrival_date_day_of_month       119390 non-null  int64  \n",
      " 7   stays_in_weekend_nights         119390 non-null  int64  \n",
      " 8   stays_in_week_nights            119390 non-null  int64  \n",
      " 9   adults                          119390 non-null  int64  \n",
      " 10  children                        119386 non-null  float64\n",
      " 11  babies                          119390 non-null  int64  \n",
      " 12  meal                            119390 non-null  object \n",
      " 13  country                         118902 non-null  object \n",
      " 14  market_segment                  119390 non-null  object \n",
      " 15  distribution_channel            119390 non-null  object \n",
      " 16  is_repeated_guest               119390 non-null  int64  \n",
      " 17  previous_cancellations          119390 non-null  int64  \n",
      " 18  previous_bookings_not_canceled  119390 non-null  int64  \n",
      " 19  reserved_room_type              119390 non-null  object \n",
      " 20  assigned_room_type              119390 non-null  object \n",
      " 21  booking_changes                 119390 non-null  int64  \n",
      " 22  deposit_type                    119390 non-null  object \n",
      " 23  agent                           103050 non-null  float64\n",
      " 24  company                         6797 non-null    float64\n",
      " 25  days_in_waiting_list            119390 non-null  int64  \n",
      " 26  customer_type                   119390 non-null  object \n",
      " 27  adr                             119390 non-null  float64\n",
      " 28  required_car_parking_spaces     119390 non-null  int64  \n",
      " 29  total_of_special_requests       119390 non-null  int64  \n",
      " 30  reservation_status              119390 non-null  object \n",
      " 31  reservation_status_date         119390 non-null  object \n",
      "dtypes: float64(4), int64(16), object(12)\n",
      "memory usage: 29.1+ MB\n"
     ]
    }
   ],
   "source": [
    "df.info()"
   ]
  },
  {
   "cell_type": "code",
   "execution_count": 5,
   "id": "58749083",
   "metadata": {
    "execution": {
     "iopub.execute_input": "2025-03-19T05:12:24.587709Z",
     "iopub.status.busy": "2025-03-19T05:12:24.587304Z",
     "iopub.status.idle": "2025-03-19T05:12:24.593360Z",
     "shell.execute_reply": "2025-03-19T05:12:24.592422Z"
    },
    "papermill": {
     "duration": 0.017383,
     "end_time": "2025-03-19T05:12:24.595362",
     "exception": false,
     "start_time": "2025-03-19T05:12:24.577979",
     "status": "completed"
    },
    "tags": []
   },
   "outputs": [],
   "source": [
    "df['arrival_date_year'] += 8"
   ]
  },
  {
   "cell_type": "code",
   "execution_count": 6,
   "id": "55657127",
   "metadata": {
    "execution": {
     "iopub.execute_input": "2025-03-19T05:12:24.612477Z",
     "iopub.status.busy": "2025-03-19T05:12:24.612109Z",
     "iopub.status.idle": "2025-03-19T05:12:24.669031Z",
     "shell.execute_reply": "2025-03-19T05:12:24.668032Z"
    },
    "papermill": {
     "duration": 0.067654,
     "end_time": "2025-03-19T05:12:24.670870",
     "exception": false,
     "start_time": "2025-03-19T05:12:24.603216",
     "status": "completed"
    },
    "tags": []
   },
   "outputs": [],
   "source": [
    "df['reservation_status_date'] = pd.to_datetime(df['reservation_status_date'].str.strip(), format='%Y-%m-%d')\n",
    "df['reservation_status_date'] = df['reservation_status_date'] + pd.DateOffset(years=8)"
   ]
  },
  {
   "cell_type": "code",
   "execution_count": 7,
   "id": "aee12431",
   "metadata": {
    "execution": {
     "iopub.execute_input": "2025-03-19T05:12:24.687765Z",
     "iopub.status.busy": "2025-03-19T05:12:24.687437Z",
     "iopub.status.idle": "2025-03-19T05:12:24.722287Z",
     "shell.execute_reply": "2025-03-19T05:12:24.721398Z"
    },
    "papermill": {
     "duration": 0.045278,
     "end_time": "2025-03-19T05:12:24.724007",
     "exception": false,
     "start_time": "2025-03-19T05:12:24.678729",
     "status": "completed"
    },
    "tags": []
   },
   "outputs": [],
   "source": [
    "df.drop(df[(df['arrival_date_year'] == 2025) & (df['arrival_date_month'].isin(['March', 'April', 'May', 'June', 'July', 'August']))].index, inplace=True)"
   ]
  },
  {
   "cell_type": "code",
   "execution_count": 8,
   "id": "0ada8b15",
   "metadata": {
    "execution": {
     "iopub.execute_input": "2025-03-19T05:12:24.740900Z",
     "iopub.status.busy": "2025-03-19T05:12:24.740553Z",
     "iopub.status.idle": "2025-03-19T05:12:24.796803Z",
     "shell.execute_reply": "2025-03-19T05:12:24.795766Z"
    },
    "papermill": {
     "duration": 0.066525,
     "end_time": "2025-03-19T05:12:24.798467",
     "exception": false,
     "start_time": "2025-03-19T05:12:24.731942",
     "status": "completed"
    },
    "tags": []
   },
   "outputs": [
    {
     "data": {
      "text/plain": [
       "hotel                                 0\n",
       "is_canceled                           0\n",
       "lead_time                             0\n",
       "arrival_date_year                     0\n",
       "arrival_date_month                    0\n",
       "arrival_date_week_number              0\n",
       "arrival_date_day_of_month             0\n",
       "stays_in_weekend_nights               0\n",
       "stays_in_week_nights                  0\n",
       "adults                                0\n",
       "children                              4\n",
       "babies                                0\n",
       "meal                                  0\n",
       "country                             449\n",
       "market_segment                        0\n",
       "distribution_channel                  0\n",
       "is_repeated_guest                     0\n",
       "previous_cancellations                0\n",
       "previous_bookings_not_canceled        0\n",
       "reserved_room_type                    0\n",
       "assigned_room_type                    0\n",
       "booking_changes                       0\n",
       "deposit_type                          0\n",
       "agent                             12350\n",
       "company                           81324\n",
       "days_in_waiting_list                  0\n",
       "customer_type                         0\n",
       "adr                                   0\n",
       "required_car_parking_spaces           0\n",
       "total_of_special_requests             0\n",
       "reservation_status                    0\n",
       "reservation_status_date               0\n",
       "dtype: int64"
      ]
     },
     "execution_count": 8,
     "metadata": {},
     "output_type": "execute_result"
    }
   ],
   "source": [
    "df.isna().sum()"
   ]
  },
  {
   "cell_type": "code",
   "execution_count": 9,
   "id": "d5ae902f",
   "metadata": {
    "execution": {
     "iopub.execute_input": "2025-03-19T05:12:24.816126Z",
     "iopub.status.busy": "2025-03-19T05:12:24.815728Z",
     "iopub.status.idle": "2025-03-19T05:12:24.833347Z",
     "shell.execute_reply": "2025-03-19T05:12:24.832352Z"
    },
    "papermill": {
     "duration": 0.028822,
     "end_time": "2025-03-19T05:12:24.835596",
     "exception": false,
     "start_time": "2025-03-19T05:12:24.806774",
     "status": "completed"
    },
    "tags": []
   },
   "outputs": [],
   "source": [
    "df.drop(['agent', 'company'], axis = 1, inplace = True)"
   ]
  },
  {
   "cell_type": "code",
   "execution_count": 10,
   "id": "7aea7df4",
   "metadata": {
    "execution": {
     "iopub.execute_input": "2025-03-19T05:12:24.852639Z",
     "iopub.status.busy": "2025-03-19T05:12:24.852273Z",
     "iopub.status.idle": "2025-03-19T05:12:24.858201Z",
     "shell.execute_reply": "2025-03-19T05:12:24.857364Z"
    },
    "papermill": {
     "duration": 0.016221,
     "end_time": "2025-03-19T05:12:24.859768",
     "exception": false,
     "start_time": "2025-03-19T05:12:24.843547",
     "status": "completed"
    },
    "tags": []
   },
   "outputs": [],
   "source": [
    "df['children'] = df['children'].fillna(0)"
   ]
  },
  {
   "cell_type": "code",
   "execution_count": 11,
   "id": "c2312706",
   "metadata": {
    "execution": {
     "iopub.execute_input": "2025-03-19T05:12:24.877687Z",
     "iopub.status.busy": "2025-03-19T05:12:24.877347Z",
     "iopub.status.idle": "2025-03-19T05:12:24.900960Z",
     "shell.execute_reply": "2025-03-19T05:12:24.900156Z"
    },
    "papermill": {
     "duration": 0.034985,
     "end_time": "2025-03-19T05:12:24.902729",
     "exception": false,
     "start_time": "2025-03-19T05:12:24.867744",
     "status": "completed"
    },
    "tags": []
   },
   "outputs": [],
   "source": [
    "df = df.dropna(subset=['country'])"
   ]
  },
  {
   "cell_type": "code",
   "execution_count": 12,
   "id": "a30bcb3d",
   "metadata": {
    "execution": {
     "iopub.execute_input": "2025-03-19T05:12:24.919752Z",
     "iopub.status.busy": "2025-03-19T05:12:24.919378Z",
     "iopub.status.idle": "2025-03-19T05:12:24.942913Z",
     "shell.execute_reply": "2025-03-19T05:12:24.941901Z"
    },
    "papermill": {
     "duration": 0.033848,
     "end_time": "2025-03-19T05:12:24.944500",
     "exception": false,
     "start_time": "2025-03-19T05:12:24.910652",
     "status": "completed"
    },
    "tags": []
   },
   "outputs": [
    {
     "data": {
      "text/html": [
       "<div>\n",
       "<style scoped>\n",
       "    .dataframe tbody tr th:only-of-type {\n",
       "        vertical-align: middle;\n",
       "    }\n",
       "\n",
       "    .dataframe tbody tr th {\n",
       "        vertical-align: top;\n",
       "    }\n",
       "\n",
       "    .dataframe thead th {\n",
       "        text-align: right;\n",
       "    }\n",
       "</style>\n",
       "<table border=\"1\" class=\"dataframe\">\n",
       "  <thead>\n",
       "    <tr style=\"text-align: right;\">\n",
       "      <th></th>\n",
       "      <th>hotel</th>\n",
       "      <th>is_canceled</th>\n",
       "      <th>lead_time</th>\n",
       "      <th>arrival_date_year</th>\n",
       "      <th>arrival_date_month</th>\n",
       "      <th>arrival_date_week_number</th>\n",
       "      <th>arrival_date_day_of_month</th>\n",
       "      <th>stays_in_weekend_nights</th>\n",
       "      <th>stays_in_week_nights</th>\n",
       "      <th>adults</th>\n",
       "      <th>...</th>\n",
       "      <th>assigned_room_type</th>\n",
       "      <th>booking_changes</th>\n",
       "      <th>deposit_type</th>\n",
       "      <th>days_in_waiting_list</th>\n",
       "      <th>customer_type</th>\n",
       "      <th>adr</th>\n",
       "      <th>required_car_parking_spaces</th>\n",
       "      <th>total_of_special_requests</th>\n",
       "      <th>reservation_status</th>\n",
       "      <th>reservation_status_date</th>\n",
       "    </tr>\n",
       "  </thead>\n",
       "  <tbody>\n",
       "    <tr>\n",
       "      <th>0</th>\n",
       "      <td>Resort Hotel</td>\n",
       "      <td>0</td>\n",
       "      <td>342</td>\n",
       "      <td>2023</td>\n",
       "      <td>July</td>\n",
       "      <td>27</td>\n",
       "      <td>1</td>\n",
       "      <td>0</td>\n",
       "      <td>0</td>\n",
       "      <td>2</td>\n",
       "      <td>...</td>\n",
       "      <td>C</td>\n",
       "      <td>3</td>\n",
       "      <td>No Deposit</td>\n",
       "      <td>0</td>\n",
       "      <td>Transient</td>\n",
       "      <td>0.0</td>\n",
       "      <td>0</td>\n",
       "      <td>0</td>\n",
       "      <td>Check-Out</td>\n",
       "      <td>2023-07-01</td>\n",
       "    </tr>\n",
       "    <tr>\n",
       "      <th>1</th>\n",
       "      <td>Resort Hotel</td>\n",
       "      <td>0</td>\n",
       "      <td>737</td>\n",
       "      <td>2023</td>\n",
       "      <td>July</td>\n",
       "      <td>27</td>\n",
       "      <td>1</td>\n",
       "      <td>0</td>\n",
       "      <td>0</td>\n",
       "      <td>2</td>\n",
       "      <td>...</td>\n",
       "      <td>C</td>\n",
       "      <td>4</td>\n",
       "      <td>No Deposit</td>\n",
       "      <td>0</td>\n",
       "      <td>Transient</td>\n",
       "      <td>0.0</td>\n",
       "      <td>0</td>\n",
       "      <td>0</td>\n",
       "      <td>Check-Out</td>\n",
       "      <td>2023-07-01</td>\n",
       "    </tr>\n",
       "    <tr>\n",
       "      <th>2</th>\n",
       "      <td>Resort Hotel</td>\n",
       "      <td>0</td>\n",
       "      <td>7</td>\n",
       "      <td>2023</td>\n",
       "      <td>July</td>\n",
       "      <td>27</td>\n",
       "      <td>1</td>\n",
       "      <td>0</td>\n",
       "      <td>1</td>\n",
       "      <td>1</td>\n",
       "      <td>...</td>\n",
       "      <td>C</td>\n",
       "      <td>0</td>\n",
       "      <td>No Deposit</td>\n",
       "      <td>0</td>\n",
       "      <td>Transient</td>\n",
       "      <td>75.0</td>\n",
       "      <td>0</td>\n",
       "      <td>0</td>\n",
       "      <td>Check-Out</td>\n",
       "      <td>2023-07-02</td>\n",
       "    </tr>\n",
       "    <tr>\n",
       "      <th>3</th>\n",
       "      <td>Resort Hotel</td>\n",
       "      <td>0</td>\n",
       "      <td>13</td>\n",
       "      <td>2023</td>\n",
       "      <td>July</td>\n",
       "      <td>27</td>\n",
       "      <td>1</td>\n",
       "      <td>0</td>\n",
       "      <td>1</td>\n",
       "      <td>1</td>\n",
       "      <td>...</td>\n",
       "      <td>A</td>\n",
       "      <td>0</td>\n",
       "      <td>No Deposit</td>\n",
       "      <td>0</td>\n",
       "      <td>Transient</td>\n",
       "      <td>75.0</td>\n",
       "      <td>0</td>\n",
       "      <td>0</td>\n",
       "      <td>Check-Out</td>\n",
       "      <td>2023-07-02</td>\n",
       "    </tr>\n",
       "    <tr>\n",
       "      <th>4</th>\n",
       "      <td>Resort Hotel</td>\n",
       "      <td>0</td>\n",
       "      <td>14</td>\n",
       "      <td>2023</td>\n",
       "      <td>July</td>\n",
       "      <td>27</td>\n",
       "      <td>1</td>\n",
       "      <td>0</td>\n",
       "      <td>2</td>\n",
       "      <td>2</td>\n",
       "      <td>...</td>\n",
       "      <td>A</td>\n",
       "      <td>0</td>\n",
       "      <td>No Deposit</td>\n",
       "      <td>0</td>\n",
       "      <td>Transient</td>\n",
       "      <td>98.0</td>\n",
       "      <td>0</td>\n",
       "      <td>1</td>\n",
       "      <td>Check-Out</td>\n",
       "      <td>2023-07-03</td>\n",
       "    </tr>\n",
       "  </tbody>\n",
       "</table>\n",
       "<p>5 rows × 30 columns</p>\n",
       "</div>"
      ],
      "text/plain": [
       "          hotel  is_canceled  lead_time  arrival_date_year arrival_date_month  \\\n",
       "0  Resort Hotel            0        342               2023               July   \n",
       "1  Resort Hotel            0        737               2023               July   \n",
       "2  Resort Hotel            0          7               2023               July   \n",
       "3  Resort Hotel            0         13               2023               July   \n",
       "4  Resort Hotel            0         14               2023               July   \n",
       "\n",
       "   arrival_date_week_number  arrival_date_day_of_month  \\\n",
       "0                        27                          1   \n",
       "1                        27                          1   \n",
       "2                        27                          1   \n",
       "3                        27                          1   \n",
       "4                        27                          1   \n",
       "\n",
       "   stays_in_weekend_nights  stays_in_week_nights  adults  ...  \\\n",
       "0                        0                     0       2  ...   \n",
       "1                        0                     0       2  ...   \n",
       "2                        0                     1       1  ...   \n",
       "3                        0                     1       1  ...   \n",
       "4                        0                     2       2  ...   \n",
       "\n",
       "   assigned_room_type  booking_changes deposit_type days_in_waiting_list  \\\n",
       "0                   C                3   No Deposit                    0   \n",
       "1                   C                4   No Deposit                    0   \n",
       "2                   C                0   No Deposit                    0   \n",
       "3                   A                0   No Deposit                    0   \n",
       "4                   A                0   No Deposit                    0   \n",
       "\n",
       "  customer_type   adr  required_car_parking_spaces  total_of_special_requests  \\\n",
       "0     Transient   0.0                            0                          0   \n",
       "1     Transient   0.0                            0                          0   \n",
       "2     Transient  75.0                            0                          0   \n",
       "3     Transient  75.0                            0                          0   \n",
       "4     Transient  98.0                            0                          1   \n",
       "\n",
       "   reservation_status reservation_status_date  \n",
       "0           Check-Out              2023-07-01  \n",
       "1           Check-Out              2023-07-01  \n",
       "2           Check-Out              2023-07-02  \n",
       "3           Check-Out              2023-07-02  \n",
       "4           Check-Out              2023-07-03  \n",
       "\n",
       "[5 rows x 30 columns]"
      ]
     },
     "execution_count": 12,
     "metadata": {},
     "output_type": "execute_result"
    }
   ],
   "source": [
    "df.head()"
   ]
  },
  {
   "cell_type": "code",
   "execution_count": 13,
   "id": "9133c369",
   "metadata": {
    "execution": {
     "iopub.execute_input": "2025-03-19T05:12:24.962413Z",
     "iopub.status.busy": "2025-03-19T05:12:24.962006Z",
     "iopub.status.idle": "2025-03-19T05:12:24.968267Z",
     "shell.execute_reply": "2025-03-19T05:12:24.967292Z"
    },
    "papermill": {
     "duration": 0.017118,
     "end_time": "2025-03-19T05:12:24.969919",
     "exception": false,
     "start_time": "2025-03-19T05:12:24.952801",
     "status": "completed"
    },
    "tags": []
   },
   "outputs": [],
   "source": [
    "df['revenue'] = df['adr'] * (df['stays_in_weekend_nights'] + df['stays_in_week_nights'])"
   ]
  },
  {
   "cell_type": "code",
   "execution_count": 14,
   "id": "1b9f6a98",
   "metadata": {
    "execution": {
     "iopub.execute_input": "2025-03-19T05:12:24.987594Z",
     "iopub.status.busy": "2025-03-19T05:12:24.987246Z",
     "iopub.status.idle": "2025-03-19T05:12:24.999504Z",
     "shell.execute_reply": "2025-03-19T05:12:24.998387Z"
    },
    "papermill": {
     "duration": 0.023308,
     "end_time": "2025-03-19T05:12:25.001539",
     "exception": false,
     "start_time": "2025-03-19T05:12:24.978231",
     "status": "completed"
    },
    "tags": []
   },
   "outputs": [
    {
     "data": {
      "text/plain": [
       "count    86112.000000\n",
       "mean       319.237604\n",
       "std        300.709090\n",
       "min          0.000000\n",
       "25%        128.000000\n",
       "50%        240.000000\n",
       "75%        395.000000\n",
       "max       6148.000000\n",
       "Name: revenue, dtype: float64"
      ]
     },
     "execution_count": 14,
     "metadata": {},
     "output_type": "execute_result"
    }
   ],
   "source": [
    "df.revenue.describe()"
   ]
  },
  {
   "cell_type": "code",
   "execution_count": 15,
   "id": "14c7e056",
   "metadata": {
    "execution": {
     "iopub.execute_input": "2025-03-19T05:12:25.019756Z",
     "iopub.status.busy": "2025-03-19T05:12:25.019429Z",
     "iopub.status.idle": "2025-03-19T05:12:25.057677Z",
     "shell.execute_reply": "2025-03-19T05:12:25.056534Z"
    },
    "papermill": {
     "duration": 0.049291,
     "end_time": "2025-03-19T05:12:25.059570",
     "exception": false,
     "start_time": "2025-03-19T05:12:25.010279",
     "status": "completed"
    },
    "tags": []
   },
   "outputs": [
    {
     "data": {
      "text/html": [
       "<div>\n",
       "<style scoped>\n",
       "    .dataframe tbody tr th:only-of-type {\n",
       "        vertical-align: middle;\n",
       "    }\n",
       "\n",
       "    .dataframe tbody tr th {\n",
       "        vertical-align: top;\n",
       "    }\n",
       "\n",
       "    .dataframe thead th {\n",
       "        text-align: right;\n",
       "    }\n",
       "</style>\n",
       "<table border=\"1\" class=\"dataframe\">\n",
       "  <thead>\n",
       "    <tr style=\"text-align: right;\">\n",
       "      <th></th>\n",
       "      <th>hotel</th>\n",
       "      <th>is_canceled</th>\n",
       "      <th>lead_time</th>\n",
       "      <th>arrival_date_year</th>\n",
       "      <th>arrival_date_month</th>\n",
       "      <th>arrival_date_week_number</th>\n",
       "      <th>arrival_date_day_of_month</th>\n",
       "      <th>stays_in_weekend_nights</th>\n",
       "      <th>stays_in_week_nights</th>\n",
       "      <th>adults</th>\n",
       "      <th>...</th>\n",
       "      <th>booking_changes</th>\n",
       "      <th>deposit_type</th>\n",
       "      <th>days_in_waiting_list</th>\n",
       "      <th>customer_type</th>\n",
       "      <th>adr</th>\n",
       "      <th>required_car_parking_spaces</th>\n",
       "      <th>total_of_special_requests</th>\n",
       "      <th>reservation_status</th>\n",
       "      <th>reservation_status_date</th>\n",
       "      <th>revenue</th>\n",
       "    </tr>\n",
       "  </thead>\n",
       "  <tbody>\n",
       "    <tr>\n",
       "      <th>8</th>\n",
       "      <td>Resort Hotel</td>\n",
       "      <td>1</td>\n",
       "      <td>85</td>\n",
       "      <td>2023</td>\n",
       "      <td>July</td>\n",
       "      <td>27</td>\n",
       "      <td>1</td>\n",
       "      <td>0</td>\n",
       "      <td>3</td>\n",
       "      <td>2</td>\n",
       "      <td>...</td>\n",
       "      <td>0</td>\n",
       "      <td>No Deposit</td>\n",
       "      <td>0</td>\n",
       "      <td>Transient</td>\n",
       "      <td>82.0</td>\n",
       "      <td>0</td>\n",
       "      <td>1</td>\n",
       "      <td>Canceled</td>\n",
       "      <td>2023-05-06</td>\n",
       "      <td>246.0</td>\n",
       "    </tr>\n",
       "    <tr>\n",
       "      <th>9</th>\n",
       "      <td>Resort Hotel</td>\n",
       "      <td>1</td>\n",
       "      <td>75</td>\n",
       "      <td>2023</td>\n",
       "      <td>July</td>\n",
       "      <td>27</td>\n",
       "      <td>1</td>\n",
       "      <td>0</td>\n",
       "      <td>3</td>\n",
       "      <td>2</td>\n",
       "      <td>...</td>\n",
       "      <td>0</td>\n",
       "      <td>No Deposit</td>\n",
       "      <td>0</td>\n",
       "      <td>Transient</td>\n",
       "      <td>105.5</td>\n",
       "      <td>0</td>\n",
       "      <td>0</td>\n",
       "      <td>Canceled</td>\n",
       "      <td>2023-04-22</td>\n",
       "      <td>316.5</td>\n",
       "    </tr>\n",
       "    <tr>\n",
       "      <th>10</th>\n",
       "      <td>Resort Hotel</td>\n",
       "      <td>1</td>\n",
       "      <td>23</td>\n",
       "      <td>2023</td>\n",
       "      <td>July</td>\n",
       "      <td>27</td>\n",
       "      <td>1</td>\n",
       "      <td>0</td>\n",
       "      <td>4</td>\n",
       "      <td>2</td>\n",
       "      <td>...</td>\n",
       "      <td>0</td>\n",
       "      <td>No Deposit</td>\n",
       "      <td>0</td>\n",
       "      <td>Transient</td>\n",
       "      <td>123.0</td>\n",
       "      <td>0</td>\n",
       "      <td>0</td>\n",
       "      <td>Canceled</td>\n",
       "      <td>2023-06-23</td>\n",
       "      <td>492.0</td>\n",
       "    </tr>\n",
       "    <tr>\n",
       "      <th>27</th>\n",
       "      <td>Resort Hotel</td>\n",
       "      <td>1</td>\n",
       "      <td>60</td>\n",
       "      <td>2023</td>\n",
       "      <td>July</td>\n",
       "      <td>27</td>\n",
       "      <td>1</td>\n",
       "      <td>2</td>\n",
       "      <td>5</td>\n",
       "      <td>2</td>\n",
       "      <td>...</td>\n",
       "      <td>0</td>\n",
       "      <td>No Deposit</td>\n",
       "      <td>0</td>\n",
       "      <td>Transient</td>\n",
       "      <td>107.0</td>\n",
       "      <td>0</td>\n",
       "      <td>2</td>\n",
       "      <td>Canceled</td>\n",
       "      <td>2023-05-11</td>\n",
       "      <td>749.0</td>\n",
       "    </tr>\n",
       "    <tr>\n",
       "      <th>32</th>\n",
       "      <td>Resort Hotel</td>\n",
       "      <td>1</td>\n",
       "      <td>96</td>\n",
       "      <td>2023</td>\n",
       "      <td>July</td>\n",
       "      <td>27</td>\n",
       "      <td>1</td>\n",
       "      <td>2</td>\n",
       "      <td>8</td>\n",
       "      <td>2</td>\n",
       "      <td>...</td>\n",
       "      <td>0</td>\n",
       "      <td>No Deposit</td>\n",
       "      <td>0</td>\n",
       "      <td>Transient</td>\n",
       "      <td>108.3</td>\n",
       "      <td>0</td>\n",
       "      <td>2</td>\n",
       "      <td>Canceled</td>\n",
       "      <td>2023-05-29</td>\n",
       "      <td>1083.0</td>\n",
       "    </tr>\n",
       "    <tr>\n",
       "      <th>...</th>\n",
       "      <td>...</td>\n",
       "      <td>...</td>\n",
       "      <td>...</td>\n",
       "      <td>...</td>\n",
       "      <td>...</td>\n",
       "      <td>...</td>\n",
       "      <td>...</td>\n",
       "      <td>...</td>\n",
       "      <td>...</td>\n",
       "      <td>...</td>\n",
       "      <td>...</td>\n",
       "      <td>...</td>\n",
       "      <td>...</td>\n",
       "      <td>...</td>\n",
       "      <td>...</td>\n",
       "      <td>...</td>\n",
       "      <td>...</td>\n",
       "      <td>...</td>\n",
       "      <td>...</td>\n",
       "      <td>...</td>\n",
       "      <td>...</td>\n",
       "    </tr>\n",
       "    <tr>\n",
       "      <th>94308</th>\n",
       "      <td>City Hotel</td>\n",
       "      <td>1</td>\n",
       "      <td>3</td>\n",
       "      <td>2024</td>\n",
       "      <td>September</td>\n",
       "      <td>38</td>\n",
       "      <td>12</td>\n",
       "      <td>1</td>\n",
       "      <td>2</td>\n",
       "      <td>1</td>\n",
       "      <td>...</td>\n",
       "      <td>0</td>\n",
       "      <td>No Deposit</td>\n",
       "      <td>0</td>\n",
       "      <td>Transient</td>\n",
       "      <td>67.0</td>\n",
       "      <td>0</td>\n",
       "      <td>1</td>\n",
       "      <td>No-Show</td>\n",
       "      <td>2024-09-12</td>\n",
       "      <td>201.0</td>\n",
       "    </tr>\n",
       "    <tr>\n",
       "      <th>95891</th>\n",
       "      <td>City Hotel</td>\n",
       "      <td>1</td>\n",
       "      <td>12</td>\n",
       "      <td>2024</td>\n",
       "      <td>October</td>\n",
       "      <td>42</td>\n",
       "      <td>12</td>\n",
       "      <td>0</td>\n",
       "      <td>2</td>\n",
       "      <td>1</td>\n",
       "      <td>...</td>\n",
       "      <td>0</td>\n",
       "      <td>No Deposit</td>\n",
       "      <td>0</td>\n",
       "      <td>Transient</td>\n",
       "      <td>65.0</td>\n",
       "      <td>0</td>\n",
       "      <td>1</td>\n",
       "      <td>No-Show</td>\n",
       "      <td>2024-10-12</td>\n",
       "      <td>130.0</td>\n",
       "    </tr>\n",
       "    <tr>\n",
       "      <th>97968</th>\n",
       "      <td>City Hotel</td>\n",
       "      <td>1</td>\n",
       "      <td>0</td>\n",
       "      <td>2024</td>\n",
       "      <td>October</td>\n",
       "      <td>42</td>\n",
       "      <td>10</td>\n",
       "      <td>1</td>\n",
       "      <td>2</td>\n",
       "      <td>1</td>\n",
       "      <td>...</td>\n",
       "      <td>0</td>\n",
       "      <td>No Deposit</td>\n",
       "      <td>0</td>\n",
       "      <td>Transient</td>\n",
       "      <td>153.0</td>\n",
       "      <td>0</td>\n",
       "      <td>0</td>\n",
       "      <td>No-Show</td>\n",
       "      <td>2024-10-10</td>\n",
       "      <td>459.0</td>\n",
       "    </tr>\n",
       "    <tr>\n",
       "      <th>98809</th>\n",
       "      <td>City Hotel</td>\n",
       "      <td>1</td>\n",
       "      <td>0</td>\n",
       "      <td>2024</td>\n",
       "      <td>December</td>\n",
       "      <td>51</td>\n",
       "      <td>12</td>\n",
       "      <td>1</td>\n",
       "      <td>0</td>\n",
       "      <td>2</td>\n",
       "      <td>...</td>\n",
       "      <td>0</td>\n",
       "      <td>No Deposit</td>\n",
       "      <td>0</td>\n",
       "      <td>Transient</td>\n",
       "      <td>77.0</td>\n",
       "      <td>0</td>\n",
       "      <td>2</td>\n",
       "      <td>Canceled</td>\n",
       "      <td>2024-12-12</td>\n",
       "      <td>77.0</td>\n",
       "    </tr>\n",
       "    <tr>\n",
       "      <th>99499</th>\n",
       "      <td>City Hotel</td>\n",
       "      <td>1</td>\n",
       "      <td>1</td>\n",
       "      <td>2025</td>\n",
       "      <td>January</td>\n",
       "      <td>4</td>\n",
       "      <td>24</td>\n",
       "      <td>0</td>\n",
       "      <td>2</td>\n",
       "      <td>1</td>\n",
       "      <td>...</td>\n",
       "      <td>0</td>\n",
       "      <td>No Deposit</td>\n",
       "      <td>0</td>\n",
       "      <td>Transient</td>\n",
       "      <td>65.0</td>\n",
       "      <td>0</td>\n",
       "      <td>1</td>\n",
       "      <td>Canceled</td>\n",
       "      <td>2025-01-23</td>\n",
       "      <td>130.0</td>\n",
       "    </tr>\n",
       "  </tbody>\n",
       "</table>\n",
       "<p>30862 rows × 31 columns</p>\n",
       "</div>"
      ],
      "text/plain": [
       "              hotel  is_canceled  lead_time  arrival_date_year  \\\n",
       "8      Resort Hotel            1         85               2023   \n",
       "9      Resort Hotel            1         75               2023   \n",
       "10     Resort Hotel            1         23               2023   \n",
       "27     Resort Hotel            1         60               2023   \n",
       "32     Resort Hotel            1         96               2023   \n",
       "...             ...          ...        ...                ...   \n",
       "94308    City Hotel            1          3               2024   \n",
       "95891    City Hotel            1         12               2024   \n",
       "97968    City Hotel            1          0               2024   \n",
       "98809    City Hotel            1          0               2024   \n",
       "99499    City Hotel            1          1               2025   \n",
       "\n",
       "      arrival_date_month  arrival_date_week_number  arrival_date_day_of_month  \\\n",
       "8                   July                        27                          1   \n",
       "9                   July                        27                          1   \n",
       "10                  July                        27                          1   \n",
       "27                  July                        27                          1   \n",
       "32                  July                        27                          1   \n",
       "...                  ...                       ...                        ...   \n",
       "94308          September                        38                         12   \n",
       "95891            October                        42                         12   \n",
       "97968            October                        42                         10   \n",
       "98809           December                        51                         12   \n",
       "99499            January                         4                         24   \n",
       "\n",
       "       stays_in_weekend_nights  stays_in_week_nights  adults  ...  \\\n",
       "8                            0                     3       2  ...   \n",
       "9                            0                     3       2  ...   \n",
       "10                           0                     4       2  ...   \n",
       "27                           2                     5       2  ...   \n",
       "32                           2                     8       2  ...   \n",
       "...                        ...                   ...     ...  ...   \n",
       "94308                        1                     2       1  ...   \n",
       "95891                        0                     2       1  ...   \n",
       "97968                        1                     2       1  ...   \n",
       "98809                        1                     0       2  ...   \n",
       "99499                        0                     2       1  ...   \n",
       "\n",
       "       booking_changes  deposit_type days_in_waiting_list customer_type  \\\n",
       "8                    0    No Deposit                    0     Transient   \n",
       "9                    0    No Deposit                    0     Transient   \n",
       "10                   0    No Deposit                    0     Transient   \n",
       "27                   0    No Deposit                    0     Transient   \n",
       "32                   0    No Deposit                    0     Transient   \n",
       "...                ...           ...                  ...           ...   \n",
       "94308                0    No Deposit                    0     Transient   \n",
       "95891                0    No Deposit                    0     Transient   \n",
       "97968                0    No Deposit                    0     Transient   \n",
       "98809                0    No Deposit                    0     Transient   \n",
       "99499                0    No Deposit                    0     Transient   \n",
       "\n",
       "         adr required_car_parking_spaces  total_of_special_requests  \\\n",
       "8       82.0                           0                          1   \n",
       "9      105.5                           0                          0   \n",
       "10     123.0                           0                          0   \n",
       "27     107.0                           0                          2   \n",
       "32     108.3                           0                          2   \n",
       "...      ...                         ...                        ...   \n",
       "94308   67.0                           0                          1   \n",
       "95891   65.0                           0                          1   \n",
       "97968  153.0                           0                          0   \n",
       "98809   77.0                           0                          2   \n",
       "99499   65.0                           0                          1   \n",
       "\n",
       "       reservation_status  reservation_status_date revenue  \n",
       "8                Canceled               2023-05-06   246.0  \n",
       "9                Canceled               2023-04-22   316.5  \n",
       "10               Canceled               2023-06-23   492.0  \n",
       "27               Canceled               2023-05-11   749.0  \n",
       "32               Canceled               2023-05-29  1083.0  \n",
       "...                   ...                      ...     ...  \n",
       "94308             No-Show               2024-09-12   201.0  \n",
       "95891             No-Show               2024-10-12   130.0  \n",
       "97968             No-Show               2024-10-10   459.0  \n",
       "98809            Canceled               2024-12-12    77.0  \n",
       "99499            Canceled               2025-01-23   130.0  \n",
       "\n",
       "[30862 rows x 31 columns]"
      ]
     },
     "execution_count": 15,
     "metadata": {},
     "output_type": "execute_result"
    }
   ],
   "source": [
    "df[(df['is_canceled'] == 1) & (df['revenue'] != 0)]"
   ]
  },
  {
   "cell_type": "code",
   "execution_count": 16,
   "id": "a917d9c3",
   "metadata": {
    "execution": {
     "iopub.execute_input": "2025-03-19T05:12:25.078494Z",
     "iopub.status.busy": "2025-03-19T05:12:25.078124Z",
     "iopub.status.idle": "2025-03-19T05:12:25.084365Z",
     "shell.execute_reply": "2025-03-19T05:12:25.083359Z"
    },
    "papermill": {
     "duration": 0.017632,
     "end_time": "2025-03-19T05:12:25.085992",
     "exception": false,
     "start_time": "2025-03-19T05:12:25.068360",
     "status": "completed"
    },
    "tags": []
   },
   "outputs": [],
   "source": [
    "df.loc[df['is_canceled'] == 1, 'revenue'] = 0"
   ]
  },
  {
   "cell_type": "code",
   "execution_count": 17,
   "id": "3bd1c411",
   "metadata": {
    "execution": {
     "iopub.execute_input": "2025-03-19T05:12:25.105423Z",
     "iopub.status.busy": "2025-03-19T05:12:25.105010Z",
     "iopub.status.idle": "2025-03-19T05:12:25.117116Z",
     "shell.execute_reply": "2025-03-19T05:12:25.115858Z"
    },
    "papermill": {
     "duration": 0.02419,
     "end_time": "2025-03-19T05:12:25.119035",
     "exception": false,
     "start_time": "2025-03-19T05:12:25.094845",
     "status": "completed"
    },
    "tags": []
   },
   "outputs": [
    {
     "data": {
      "text/plain": [
       "count    86112.000000\n",
       "mean        15.824101\n",
       "std          8.738133\n",
       "min          1.000000\n",
       "25%          8.000000\n",
       "50%         16.000000\n",
       "75%         23.000000\n",
       "max         31.000000\n",
       "Name: arrival_date_day_of_month, dtype: float64"
      ]
     },
     "execution_count": 17,
     "metadata": {},
     "output_type": "execute_result"
    }
   ],
   "source": [
    "df.arrival_date_day_of_month.describe()"
   ]
  },
  {
   "cell_type": "code",
   "execution_count": 18,
   "id": "fdeec62f",
   "metadata": {
    "execution": {
     "iopub.execute_input": "2025-03-19T05:12:25.138988Z",
     "iopub.status.busy": "2025-03-19T05:12:25.138631Z",
     "iopub.status.idle": "2025-03-19T05:12:25.148615Z",
     "shell.execute_reply": "2025-03-19T05:12:25.147769Z"
    },
    "papermill": {
     "duration": 0.021825,
     "end_time": "2025-03-19T05:12:25.150155",
     "exception": false,
     "start_time": "2025-03-19T05:12:25.128330",
     "status": "completed"
    },
    "tags": []
   },
   "outputs": [
    {
     "data": {
      "text/plain": [
       "array(['July', 'August', 'September', 'October', 'November', 'December',\n",
       "       'January', 'February', 'March', 'April', 'May', 'June'],\n",
       "      dtype=object)"
      ]
     },
     "execution_count": 18,
     "metadata": {},
     "output_type": "execute_result"
    }
   ],
   "source": [
    "df.arrival_date_month.unique()"
   ]
  },
  {
   "cell_type": "code",
   "execution_count": 19,
   "id": "01a5f0b8",
   "metadata": {
    "execution": {
     "iopub.execute_input": "2025-03-19T05:12:25.169250Z",
     "iopub.status.busy": "2025-03-19T05:12:25.168888Z",
     "iopub.status.idle": "2025-03-19T05:12:25.280601Z",
     "shell.execute_reply": "2025-03-19T05:12:25.279660Z"
    },
    "papermill": {
     "duration": 0.123454,
     "end_time": "2025-03-19T05:12:25.282607",
     "exception": false,
     "start_time": "2025-03-19T05:12:25.159153",
     "status": "completed"
    },
    "tags": []
   },
   "outputs": [],
   "source": [
    "df['check_in_date'] = pd.to_datetime(\n",
    "    df.arrival_date_day_of_month.fillna(1).astype(int).astype(str) + '-' +\n",
    "    df.arrival_date_month.fillna('January').astype(str) + '-' + \n",
    "    df.arrival_date_year.fillna(2000).astype(int).astype(str),\n",
    "    format='%d-%B-%Y'\n",
    ")"
   ]
  },
  {
   "cell_type": "code",
   "execution_count": 20,
   "id": "4b7fba4a",
   "metadata": {
    "execution": {
     "iopub.execute_input": "2025-03-19T05:12:25.302572Z",
     "iopub.status.busy": "2025-03-19T05:12:25.302217Z",
     "iopub.status.idle": "2025-03-19T05:12:25.384636Z",
     "shell.execute_reply": "2025-03-19T05:12:25.383786Z"
    },
    "papermill": {
     "duration": 0.094529,
     "end_time": "2025-03-19T05:12:25.386554",
     "exception": false,
     "start_time": "2025-03-19T05:12:25.292025",
     "status": "completed"
    },
    "tags": []
   },
   "outputs": [],
   "source": [
    "df['month'] = pd.to_datetime(df['arrival_date_year'].astype(str) + '-' + df['arrival_date_month'], format='%Y-%B')\n",
    "\n",
    "result = df.sort_values(by='check_in_date').groupby('month')['revenue'].sum().reset_index()"
   ]
  },
  {
   "cell_type": "code",
   "execution_count": 21,
   "id": "f08c357a",
   "metadata": {
    "execution": {
     "iopub.execute_input": "2025-03-19T05:12:25.405734Z",
     "iopub.status.busy": "2025-03-19T05:12:25.405382Z",
     "iopub.status.idle": "2025-03-19T05:12:25.414020Z",
     "shell.execute_reply": "2025-03-19T05:12:25.413183Z"
    },
    "papermill": {
     "duration": 0.019982,
     "end_time": "2025-03-19T05:12:25.415565",
     "exception": false,
     "start_time": "2025-03-19T05:12:25.395583",
     "status": "completed"
    },
    "tags": []
   },
   "outputs": [
    {
     "data": {
      "text/html": [
       "<div>\n",
       "<style scoped>\n",
       "    .dataframe tbody tr th:only-of-type {\n",
       "        vertical-align: middle;\n",
       "    }\n",
       "\n",
       "    .dataframe tbody tr th {\n",
       "        vertical-align: top;\n",
       "    }\n",
       "\n",
       "    .dataframe thead th {\n",
       "        text-align: right;\n",
       "    }\n",
       "</style>\n",
       "<table border=\"1\" class=\"dataframe\">\n",
       "  <thead>\n",
       "    <tr style=\"text-align: right;\">\n",
       "      <th></th>\n",
       "      <th>month</th>\n",
       "      <th>revenue</th>\n",
       "    </tr>\n",
       "  </thead>\n",
       "  <tbody>\n",
       "    <tr>\n",
       "      <th>0</th>\n",
       "      <td>2023-07-01</td>\n",
       "      <td>752888.33</td>\n",
       "    </tr>\n",
       "    <tr>\n",
       "      <th>1</th>\n",
       "      <td>2023-08-01</td>\n",
       "      <td>1119561.28</td>\n",
       "    </tr>\n",
       "    <tr>\n",
       "      <th>2</th>\n",
       "      <td>2023-09-01</td>\n",
       "      <td>1049156.95</td>\n",
       "    </tr>\n",
       "    <tr>\n",
       "      <th>3</th>\n",
       "      <td>2023-10-01</td>\n",
       "      <td>782577.58</td>\n",
       "    </tr>\n",
       "    <tr>\n",
       "      <th>4</th>\n",
       "      <td>2023-11-01</td>\n",
       "      <td>345585.49</td>\n",
       "    </tr>\n",
       "  </tbody>\n",
       "</table>\n",
       "</div>"
      ],
      "text/plain": [
       "       month     revenue\n",
       "0 2023-07-01   752888.33\n",
       "1 2023-08-01  1119561.28\n",
       "2 2023-09-01  1049156.95\n",
       "3 2023-10-01   782577.58\n",
       "4 2023-11-01   345585.49"
      ]
     },
     "execution_count": 21,
     "metadata": {},
     "output_type": "execute_result"
    }
   ],
   "source": [
    "result.head()"
   ]
  },
  {
   "cell_type": "code",
   "execution_count": 22,
   "id": "2f00231c",
   "metadata": {
    "execution": {
     "iopub.execute_input": "2025-03-19T05:12:25.434736Z",
     "iopub.status.busy": "2025-03-19T05:12:25.434416Z",
     "iopub.status.idle": "2025-03-19T05:12:25.439069Z",
     "shell.execute_reply": "2025-03-19T05:12:25.438262Z"
    },
    "papermill": {
     "duration": 0.015894,
     "end_time": "2025-03-19T05:12:25.440475",
     "exception": false,
     "start_time": "2025-03-19T05:12:25.424581",
     "status": "completed"
    },
    "tags": []
   },
   "outputs": [],
   "source": [
    "%matplotlib inline"
   ]
  },
  {
   "cell_type": "code",
   "execution_count": 23,
   "id": "acaac098",
   "metadata": {
    "execution": {
     "iopub.execute_input": "2025-03-19T05:12:25.460309Z",
     "iopub.status.busy": "2025-03-19T05:12:25.459899Z",
     "iopub.status.idle": "2025-03-19T05:12:27.212132Z",
     "shell.execute_reply": "2025-03-19T05:12:27.210354Z"
    },
    "papermill": {
     "duration": 1.765053,
     "end_time": "2025-03-19T05:12:27.214653",
     "exception": false,
     "start_time": "2025-03-19T05:12:25.449600",
     "status": "completed"
    },
    "tags": []
   },
   "outputs": [],
   "source": [
    "import matplotlib.pyplot as plt\n",
    "import seaborn as sns"
   ]
  },
  {
   "cell_type": "code",
   "execution_count": 24,
   "id": "8c4cd6f1",
   "metadata": {
    "execution": {
     "iopub.execute_input": "2025-03-19T05:12:27.236493Z",
     "iopub.status.busy": "2025-03-19T05:12:27.235946Z",
     "iopub.status.idle": "2025-03-19T05:12:27.364966Z",
     "shell.execute_reply": "2025-03-19T05:12:27.363634Z"
    },
    "papermill": {
     "duration": 0.14134,
     "end_time": "2025-03-19T05:12:27.367022",
     "exception": false,
     "start_time": "2025-03-19T05:12:27.225682",
     "status": "completed"
    },
    "tags": []
   },
   "outputs": [],
   "source": [
    "!mkdir /kaggle/working/plots"
   ]
  },
  {
   "cell_type": "code",
   "execution_count": 25,
   "id": "5dcbc74e",
   "metadata": {
    "execution": {
     "iopub.execute_input": "2025-03-19T05:12:27.387240Z",
     "iopub.status.busy": "2025-03-19T05:12:27.386811Z",
     "iopub.status.idle": "2025-03-19T05:12:28.323011Z",
     "shell.execute_reply": "2025-03-19T05:12:28.321888Z"
    },
    "papermill": {
     "duration": 0.948441,
     "end_time": "2025-03-19T05:12:28.325039",
     "exception": false,
     "start_time": "2025-03-19T05:12:27.376598",
     "status": "completed"
    },
    "tags": []
   },
   "outputs": [
    {
     "name": "stderr",
     "output_type": "stream",
     "text": [
      "/usr/local/lib/python3.10/dist-packages/seaborn/_oldcore.py:1119: FutureWarning: use_inf_as_na option is deprecated and will be removed in a future version. Convert inf values to NaN before operating instead.\n",
      "  with pd.option_context('mode.use_inf_as_na', True):\n",
      "/usr/local/lib/python3.10/dist-packages/seaborn/_oldcore.py:1119: FutureWarning: use_inf_as_na option is deprecated and will be removed in a future version. Convert inf values to NaN before operating instead.\n",
      "  with pd.option_context('mode.use_inf_as_na', True):\n"
     ]
    },
    {
     "data": {
      "image/png": "[encoded data removed]",
      "text/plain": [
       "<Figure size 1200x600 with 1 Axes>"
      ]
     },
     "metadata": {},
     "output_type": "display_data"
    }
   ],
   "source": [
    "sns.set_style(\"whitegrid\")\n",
    "plt.figure(figsize=(12, 6))\n",
    "\n",
    "sns.lineplot(data=result, x='month', y='revenue', marker='o', linewidth=2.5, color='royalblue')\n",
    "\n",
    "plt.title('Total Revenue Trend Over Time', fontsize=16, fontweight='bold')\n",
    "plt.xlabel('Date', fontsize=14)\n",
    "plt.ylabel('Total Revenue', fontsize=14)\n",
    "plt.xticks(rotation=45)\n",
    "plt.ticklabel_format(style='plain', axis='y')\n",
    "plt.grid(True, linestyle='--', alpha=0.6)\n",
    "plt.savefig(\"/kaggle/working/plots/total_revenue_trend.png\")\n",
    "plt.show()"
   ]
  },
  {
   "cell_type": "code",
   "execution_count": 26,
   "id": "07b5d538",
   "metadata": {
    "execution": {
     "iopub.execute_input": "2025-03-19T05:12:28.350150Z",
     "iopub.status.busy": "2025-03-19T05:12:28.349733Z",
     "iopub.status.idle": "2025-03-19T05:12:28.370500Z",
     "shell.execute_reply": "2025-03-19T05:12:28.369395Z"
    },
    "papermill": {
     "duration": 0.035915,
     "end_time": "2025-03-19T05:12:28.372499",
     "exception": false,
     "start_time": "2025-03-19T05:12:28.336584",
     "status": "completed"
    },
    "tags": []
   },
   "outputs": [],
   "source": [
    "cancellation_data = df.groupby('month').agg(\n",
    "    total_bookings=('is_canceled', 'count'),\n",
    "    total_cancellations=('is_canceled', 'sum')\n",
    ").reset_index()\n",
    "\n",
    "cancellation_data['cancellation_rate'] = (cancellation_data['total_cancellations'] / cancellation_data['total_bookings']) * 100"
   ]
  },
  {
   "cell_type": "code",
   "execution_count": 27,
   "id": "f4188dcb",
   "metadata": {
    "execution": {
     "iopub.execute_input": "2025-03-19T05:12:28.396290Z",
     "iopub.status.busy": "2025-03-19T05:12:28.395888Z",
     "iopub.status.idle": "2025-03-19T05:12:28.407853Z",
     "shell.execute_reply": "2025-03-19T05:12:28.406773Z"
    },
    "papermill": {
     "duration": 0.025397,
     "end_time": "2025-03-19T05:12:28.409562",
     "exception": false,
     "start_time": "2025-03-19T05:12:28.384165",
     "status": "completed"
    },
    "tags": []
   },
   "outputs": [
    {
     "data": {
      "text/html": [
       "<div>\n",
       "<style scoped>\n",
       "    .dataframe tbody tr th:only-of-type {\n",
       "        vertical-align: middle;\n",
       "    }\n",
       "\n",
       "    .dataframe tbody tr th {\n",
       "        vertical-align: top;\n",
       "    }\n",
       "\n",
       "    .dataframe thead th {\n",
       "        text-align: right;\n",
       "    }\n",
       "</style>\n",
       "<table border=\"1\" class=\"dataframe\">\n",
       "  <thead>\n",
       "    <tr style=\"text-align: right;\">\n",
       "      <th></th>\n",
       "      <th>month</th>\n",
       "      <th>total_bookings</th>\n",
       "      <th>total_cancellations</th>\n",
       "      <th>cancellation_rate</th>\n",
       "    </tr>\n",
       "  </thead>\n",
       "  <tbody>\n",
       "    <tr>\n",
       "      <th>0</th>\n",
       "      <td>2023-07-01</td>\n",
       "      <td>2763</td>\n",
       "      <td>1259</td>\n",
       "      <td>45.566413</td>\n",
       "    </tr>\n",
       "    <tr>\n",
       "      <th>1</th>\n",
       "      <td>2023-08-01</td>\n",
       "      <td>3877</td>\n",
       "      <td>1598</td>\n",
       "      <td>41.217436</td>\n",
       "    </tr>\n",
       "    <tr>\n",
       "      <th>2</th>\n",
       "      <td>2023-09-01</td>\n",
       "      <td>5084</td>\n",
       "      <td>2078</td>\n",
       "      <td>40.873328</td>\n",
       "    </tr>\n",
       "    <tr>\n",
       "      <th>3</th>\n",
       "      <td>2023-10-01</td>\n",
       "      <td>4919</td>\n",
       "      <td>1716</td>\n",
       "      <td>34.885139</td>\n",
       "    </tr>\n",
       "    <tr>\n",
       "      <th>4</th>\n",
       "      <td>2023-11-01</td>\n",
       "      <td>2320</td>\n",
       "      <td>486</td>\n",
       "      <td>20.948276</td>\n",
       "    </tr>\n",
       "    <tr>\n",
       "      <th>5</th>\n",
       "      <td>2023-12-01</td>\n",
       "      <td>2900</td>\n",
       "      <td>973</td>\n",
       "      <td>33.551724</td>\n",
       "    </tr>\n",
       "    <tr>\n",
       "      <th>6</th>\n",
       "      <td>2024-01-01</td>\n",
       "      <td>2215</td>\n",
       "      <td>557</td>\n",
       "      <td>25.146727</td>\n",
       "    </tr>\n",
       "    <tr>\n",
       "      <th>7</th>\n",
       "      <td>2024-02-01</td>\n",
       "      <td>3857</td>\n",
       "      <td>1336</td>\n",
       "      <td>34.638320</td>\n",
       "    </tr>\n",
       "    <tr>\n",
       "      <th>8</th>\n",
       "      <td>2024-03-01</td>\n",
       "      <td>4788</td>\n",
       "      <td>1476</td>\n",
       "      <td>30.827068</td>\n",
       "    </tr>\n",
       "    <tr>\n",
       "      <th>9</th>\n",
       "      <td>2024-04-01</td>\n",
       "      <td>5404</td>\n",
       "      <td>2059</td>\n",
       "      <td>38.101406</td>\n",
       "    </tr>\n",
       "    <tr>\n",
       "      <th>10</th>\n",
       "      <td>2024-05-01</td>\n",
       "      <td>5466</td>\n",
       "      <td>1915</td>\n",
       "      <td>35.034760</td>\n",
       "    </tr>\n",
       "    <tr>\n",
       "      <th>11</th>\n",
       "      <td>2024-06-01</td>\n",
       "      <td>5280</td>\n",
       "      <td>2095</td>\n",
       "      <td>39.678030</td>\n",
       "    </tr>\n",
       "    <tr>\n",
       "      <th>12</th>\n",
       "      <td>2024-07-01</td>\n",
       "      <td>4552</td>\n",
       "      <td>1493</td>\n",
       "      <td>32.798770</td>\n",
       "    </tr>\n",
       "    <tr>\n",
       "      <th>13</th>\n",
       "      <td>2024-08-01</td>\n",
       "      <td>5054</td>\n",
       "      <td>1824</td>\n",
       "      <td>36.090226</td>\n",
       "    </tr>\n",
       "    <tr>\n",
       "      <th>14</th>\n",
       "      <td>2024-09-01</td>\n",
       "      <td>5383</td>\n",
       "      <td>2022</td>\n",
       "      <td>37.562697</td>\n",
       "    </tr>\n",
       "    <tr>\n",
       "      <th>15</th>\n",
       "      <td>2024-10-01</td>\n",
       "      <td>6176</td>\n",
       "      <td>2512</td>\n",
       "      <td>40.673575</td>\n",
       "    </tr>\n",
       "    <tr>\n",
       "      <th>16</th>\n",
       "      <td>2024-11-01</td>\n",
       "      <td>4432</td>\n",
       "      <td>1634</td>\n",
       "      <td>36.868231</td>\n",
       "    </tr>\n",
       "    <tr>\n",
       "      <th>17</th>\n",
       "      <td>2024-12-01</td>\n",
       "      <td>3828</td>\n",
       "      <td>1390</td>\n",
       "      <td>36.311390</td>\n",
       "    </tr>\n",
       "    <tr>\n",
       "      <th>18</th>\n",
       "      <td>2025-01-01</td>\n",
       "      <td>3659</td>\n",
       "      <td>1249</td>\n",
       "      <td>34.135010</td>\n",
       "    </tr>\n",
       "    <tr>\n",
       "      <th>19</th>\n",
       "      <td>2025-02-01</td>\n",
       "      <td>4155</td>\n",
       "      <td>1359</td>\n",
       "      <td>32.707581</td>\n",
       "    </tr>\n",
       "  </tbody>\n",
       "</table>\n",
       "</div>"
      ],
      "text/plain": [
       "        month  total_bookings  total_cancellations  cancellation_rate\n",
       "0  2023-07-01            2763                 1259          45.566413\n",
       "1  2023-08-01            3877                 1598          41.217436\n",
       "2  2023-09-01            5084                 2078          40.873328\n",
       "3  2023-10-01            4919                 1716          34.885139\n",
       "4  2023-11-01            2320                  486          20.948276\n",
       "5  2023-12-01            2900                  973          33.551724\n",
       "6  2024-01-01            2215                  557          25.146727\n",
       "7  2024-02-01            3857                 1336          34.638320\n",
       "8  2024-03-01            4788                 1476          30.827068\n",
       "9  2024-04-01            5404                 2059          38.101406\n",
       "10 2024-05-01            5466                 1915          35.034760\n",
       "11 2024-06-01            5280                 2095          39.678030\n",
       "12 2024-07-01            4552                 1493          32.798770\n",
       "13 2024-08-01            5054                 1824          36.090226\n",
       "14 2024-09-01            5383                 2022          37.562697\n",
       "15 2024-10-01            6176                 2512          40.673575\n",
       "16 2024-11-01            4432                 1634          36.868231\n",
       "17 2024-12-01            3828                 1390          36.311390\n",
       "18 2025-01-01            3659                 1249          34.135010\n",
       "19 2025-02-01            4155                 1359          32.707581"
      ]
     },
     "execution_count": 27,
     "metadata": {},
     "output_type": "execute_result"
    }
   ],
   "source": [
    "cancellation_data"
   ]
  },
  {
   "cell_type": "code",
   "execution_count": 28,
   "id": "2daf1526",
   "metadata": {
    "execution": {
     "iopub.execute_input": "2025-03-19T05:12:28.433045Z",
     "iopub.status.busy": "2025-03-19T05:12:28.432688Z",
     "iopub.status.idle": "2025-03-19T05:12:29.219722Z",
     "shell.execute_reply": "2025-03-19T05:12:29.218658Z"
    },
    "papermill": {
     "duration": 0.800625,
     "end_time": "2025-03-19T05:12:29.221392",
     "exception": false,
     "start_time": "2025-03-19T05:12:28.420767",
     "status": "completed"
    },
    "tags": []
   },
   "outputs": [
    {
     "name": "stderr",
     "output_type": "stream",
     "text": [
      "/usr/local/lib/python3.10/dist-packages/seaborn/_oldcore.py:1119: FutureWarning: use_inf_as_na option is deprecated and will be removed in a future version. Convert inf values to NaN before operating instead.\n",
      "  with pd.option_context('mode.use_inf_as_na', True):\n",
      "/usr/local/lib/python3.10/dist-packages/seaborn/_oldcore.py:1119: FutureWarning: use_inf_as_na option is deprecated and will be removed in a future version. Convert inf values to NaN before operating instead.\n",
      "  with pd.option_context('mode.use_inf_as_na', True):\n"
     ]
    },
    {
     "data": {
      "image/png": "[encoded data removed]",
      "text/plain": [
       "<Figure size 1200x600 with 1 Axes>"
      ]
     },
     "metadata": {},
     "output_type": "display_data"
    }
   ],
   "source": [
    "import matplotlib.ticker as ticker\n",
    "\n",
    "plt.figure(figsize=(12, 6))\n",
    "sns.set_style(\"whitegrid\")\n",
    "\n",
    "sns.lineplot(data=cancellation_data, x='month', y='cancellation_rate', marker='o', linewidth=2.5, color='crimson')\n",
    "\n",
    "plt.title('Cancellation Rate (%) Trend Over Time', fontsize=16, fontweight='bold')\n",
    "plt.xlabel('Month', fontsize=14)\n",
    "plt.ylabel('Cancellation Rate (%)', fontsize=14)\n",
    "plt.xticks(rotation=45)\n",
    "\n",
    "plt.gca().yaxis.set_major_formatter(ticker.PercentFormatter())\n",
    "\n",
    "plt.grid(True, linestyle='--', alpha=0.6)\n",
    "plt.savefig(\"/kaggle/working/plots/cancellation_rate_trend.png\")\n",
    "plt.show()\n"
   ]
  },
  {
   "cell_type": "code",
   "execution_count": 29,
   "id": "4e4cdc28",
   "metadata": {
    "execution": {
     "iopub.execute_input": "2025-03-19T05:12:29.249600Z",
     "iopub.status.busy": "2025-03-19T05:12:29.249167Z",
     "iopub.status.idle": "2025-03-19T05:12:29.261330Z",
     "shell.execute_reply": "2025-03-19T05:12:29.260183Z"
    },
    "papermill": {
     "duration": 0.028008,
     "end_time": "2025-03-19T05:12:29.263073",
     "exception": false,
     "start_time": "2025-03-19T05:12:29.235065",
     "status": "completed"
    },
    "tags": []
   },
   "outputs": [],
   "source": [
    "country_data = df.groupby('country').size().reset_index(name='total_bookings')"
   ]
  },
  {
   "cell_type": "code",
   "execution_count": 30,
   "id": "de672233",
   "metadata": {
    "execution": {
     "iopub.execute_input": "2025-03-19T05:12:29.290916Z",
     "iopub.status.busy": "2025-03-19T05:12:29.290524Z",
     "iopub.status.idle": "2025-03-19T05:12:32.337304Z",
     "shell.execute_reply": "2025-03-19T05:12:32.336248Z"
    },
    "papermill": {
     "duration": 3.062577,
     "end_time": "2025-03-19T05:12:32.338962",
     "exception": false,
     "start_time": "2025-03-19T05:12:29.276385",
     "status": "completed"
    },
    "tags": []
   },
   "outputs": [
    {
     "data": {
      "text/html": [
       "<html>\n",
       "<head><meta charset=\"utf-8\" /></head>\n",
       "<body>\n",
       "    <div>            <script src=\"https://cdnjs.cloudflare.com/ajax/libs/mathjax/2.7.5/MathJax.js?config=TeX-AMS-MML_SVG\"></script><script type=\"text/javascript\">if (window.MathJax && window.MathJax.Hub && window.MathJax.Hub.Config) {window.MathJax.Hub.Config({SVG: {font: \"STIX-Web\"}});}</script>                <script type=\"text/javascript\">window.PlotlyConfig = {MathJaxConfig: 'local'};</script>\n",
       "        <script charset=\"utf-8\" src=\"https://cdn.plot.ly/plotly-2.35.2.min.js\"></script>                <div id=\"f5f91a01-f9ee-41ad-8e78-e0b3a35358d0\" class=\"plotly-graph-div\" style=\"height:525px; width:100%;\"></div>            <script type=\"text/javascript\">                                    window.PLOTLYENV=window.PLOTLYENV || {};                                    if (document.getElementById(\"f5f91a01-f9ee-41ad-8e78-e0b3a35358d0\")) {                    Plotly.newPlot(                        \"f5f91a01-f9ee-41ad-8e78-e0b3a35358d0\",                        [{\"coloraxis\":\"coloraxis\",\"geo\":\"geo\",\"hovertemplate\":\"country=%{location}\\u003cbr\\u003etotal_bookings=%{z}\\u003cextra\\u003e\\u003c\\u002fextra\\u003e\",\"locationmode\":\"ISO-3\",\"locations\":[\"ABW\",\"AGO\",\"AIA\",\"ALB\",\"AND\",\"ARE\",\"ARG\",\"ARM\",\"ASM\",\"ATA\",\"AUS\",\"AUT\",\"AZE\",\"BDI\",\"BEL\",\"BEN\",\"BFA\",\"BGD\",\"BGR\",\"BHR\",\"BIH\",\"BLR\",\"BOL\",\"BRA\",\"BRB\",\"BWA\",\"CAF\",\"CHE\",\"CHL\",\"CHN\",\"CIV\",\"CMR\",\"CN\",\"COL\",\"COM\",\"CPV\",\"CRI\",\"CUB\",\"CYM\",\"CYP\",\"CZE\",\"DEU\",\"DMA\",\"DNK\",\"DOM\",\"DZA\",\"ECU\",\"EGY\",\"ESP\",\"EST\",\"ETH\",\"FIN\",\"FRA\",\"GAB\",\"GBR\",\"GEO\",\"GGY\",\"GHA\",\"GIB\",\"GLP\",\"GNB\",\"GRC\",\"GTM\",\"GUY\",\"HKG\",\"HND\",\"HRV\",\"HUN\",\"IDN\",\"IMN\",\"IND\",\"IRL\",\"IRN\",\"IRQ\",\"ISL\",\"ISR\",\"ITA\",\"JAM\",\"JEY\",\"JOR\",\"JPN\",\"KAZ\",\"KEN\",\"KHM\",\"KNA\",\"KOR\",\"KWT\",\"LBN\",\"LBY\",\"LCA\",\"LIE\",\"LKA\",\"LTU\",\"LUX\",\"LVA\",\"MAC\",\"MAR\",\"MCO\",\"MDG\",\"MDV\",\"MEX\",\"MKD\",\"MLI\",\"MLT\",\"MMR\",\"MNE\",\"MOZ\",\"MUS\",\"MWI\",\"MYS\",\"NAM\",\"NGA\",\"NIC\",\"NLD\",\"NOR\",\"NZL\",\"OMN\",\"PAK\",\"PAN\",\"PER\",\"PHL\",\"PLW\",\"POL\",\"PRI\",\"PRT\",\"PRY\",\"PYF\",\"QAT\",\"ROU\",\"RUS\",\"RWA\",\"SAU\",\"SEN\",\"SGP\",\"SLV\",\"SMR\",\"SRB\",\"STP\",\"SUR\",\"SVK\",\"SVN\",\"SWE\",\"SYC\",\"SYR\",\"TGO\",\"THA\",\"TJK\",\"TMP\",\"TUN\",\"TUR\",\"TWN\",\"TZA\",\"UGA\",\"UKR\",\"URY\",\"USA\",\"UZB\",\"VEN\",\"VGB\",\"VNM\",\"ZAF\",\"ZMB\",\"ZWE\"],\"name\":\"\",\"z\":[1,300,1,12,3,36,144,7,1,2,233,815,9,1,1466,1,1,9,54,1,10,18,10,1482,4,1,3,1091,55,727,3,7,671,40,1,20,14,5,1,39,129,4683,1,248,5,82,12,28,6633,62,1,307,7280,3,7753,12,3,3,13,2,9,91,3,1,17,1,67,140,23,1,105,2117,57,13,29,399,2781,4,5,13,144,13,2,2,1,99,10,20,7,1,3,3,64,162,42,4,186,4,1,6,54,10,1,12,1,3,40,6,2,26,1,24,1,1461,325,50,15,8,8,19,10,1,682,11,38691,1,1,8,331,416,2,34,7,35,1,1,86,1,3,51,50,668,1,2,1,51,8,3,33,204,29,5,2,58,14,1254,3,22,1,5,45,2,2],\"type\":\"choropleth\"}],                        {\"template\":{\"data\":{\"histogram2dcontour\":[{\"type\":\"histogram2dcontour\",\"colorbar\":{\"outlinewidth\":0,\"ticks\":\"\"},\"colorscale\":[[0.0,\"#0d0887\"],[0.1111111111111111,\"#46039f\"],[0.2222222222222222,\"#7201a8\"],[0.3333333333333333,\"#9c179e\"],[0.4444444444444444,\"#bd3786\"],[0.5555555555555556,\"#d8576b\"],[0.6666666666666666,\"#ed7953\"],[0.7777777777777778,\"#fb9f3a\"],[0.8888888888888888,\"#fdca26\"],[1.0,\"#f0f921\"]]}],\"choropleth\":[{\"type\":\"choropleth\",\"colorbar\":{\"outlinewidth\":0,\"ticks\":\"\"}}],\"histogram2d\":[{\"type\":\"histogram2d\",\"colorbar\":{\"outlinewidth\":0,\"ticks\":\"\"},\"colorscale\":[[0.0,\"#0d0887\"],[0.1111111111111111,\"#46039f\"],[0.2222222222222222,\"#7201a8\"],[0.3333333333333333,\"#9c179e\"],[0.4444444444444444,\"#bd3786\"],[0.5555555555555556,\"#d8576b\"],[0.6666666666666666,\"#ed7953\"],[0.7777777777777778,\"#fb9f3a\"],[0.8888888888888888,\"#fdca26\"],[1.0,\"#f0f921\"]]}],\"heatmap\":[{\"type\":\"heatmap\",\"colorbar\":{\"outlinewidth\":0,\"ticks\":\"\"},\"colorscale\":[[0.0,\"#0d0887\"],[0.1111111111111111,\"#46039f\"],[0.2222222222222222,\"#7201a8\"],[0.3333333333333333,\"#9c179e\"],[0.4444444444444444,\"#bd3786\"],[0.5555555555555556,\"#d8576b\"],[0.6666666666666666,\"#ed7953\"],[0.7777777777777778,\"#fb9f3a\"],[0.8888888888888888,\"#fdca26\"],[1.0,\"#f0f921\"]]}],\"heatmapgl\":[{\"type\":\"heatmapgl\",\"colorbar\":{\"outlinewidth\":0,\"ticks\":\"\"},\"colorscale\":[[0.0,\"#0d0887\"],[0.1111111111111111,\"#46039f\"],[0.2222222222222222,\"#7201a8\"],[0.3333333333333333,\"#9c179e\"],[0.4444444444444444,\"#bd3786\"],[0.5555555555555556,\"#d8576b\"],[0.6666666666666666,\"#ed7953\"],[0.7777777777777778,\"#fb9f3a\"],[0.8888888888888888,\"#fdca26\"],[1.0,\"#f0f921\"]]}],\"contourcarpet\":[{\"type\":\"contourcarpet\",\"colorbar\":{\"outlinewidth\":0,\"ticks\":\"\"}}],\"contour\":[{\"type\":\"contour\",\"colorbar\":{\"outlinewidth\":0,\"ticks\":\"\"},\"colorscale\":[[0.0,\"#0d0887\"],[0.1111111111111111,\"#46039f\"],[0.2222222222222222,\"#7201a8\"],[0.3333333333333333,\"#9c179e\"],[0.4444444444444444,\"#bd3786\"],[0.5555555555555556,\"#d8576b\"],[0.6666666666666666,\"#ed7953\"],[0.7777777777777778,\"#fb9f3a\"],[0.8888888888888888,\"#fdca26\"],[1.0,\"#f0f921\"]]}],\"surface\":[{\"type\":\"surface\",\"colorbar\":{\"outlinewidth\":0,\"ticks\":\"\"},\"colorscale\":[[0.0,\"#0d0887\"],[0.1111111111111111,\"#46039f\"],[0.2222222222222222,\"#7201a8\"],[0.3333333333333333,\"#9c179e\"],[0.4444444444444444,\"#bd3786\"],[0.5555555555555556,\"#d8576b\"],[0.6666666666666666,\"#ed7953\"],[0.7777777777777778,\"#fb9f3a\"],[0.8888888888888888,\"#fdca26\"],[1.0,\"#f0f921\"]]}],\"mesh3d\":[{\"type\":\"mesh3d\",\"colorbar\":{\"outlinewidth\":0,\"ticks\":\"\"}}],\"scatter\":[{\"fillpattern\":{\"fillmode\":\"overlay\",\"size\":10,\"solidity\":0.2},\"type\":\"scatter\"}],\"parcoords\":[{\"type\":\"parcoords\",\"line\":{\"colorbar\":{\"outlinewidth\":0,\"ticks\":\"\"}}}],\"scatterpolargl\":[{\"type\":\"scatterpolargl\",\"marker\":{\"colorbar\":{\"outlinewidth\":0,\"ticks\":\"\"}}}],\"bar\":[{\"error_x\":{\"color\":\"#2a3f5f\"},\"error_y\":{\"color\":\"#2a3f5f\"},\"marker\":{\"line\":{\"color\":\"#E5ECF6\",\"width\":0.5},\"pattern\":{\"fillmode\":\"overlay\",\"size\":10,\"solidity\":0.2}},\"type\":\"bar\"}],\"scattergeo\":[{\"type\":\"scattergeo\",\"marker\":{\"colorbar\":{\"outlinewidth\":0,\"ticks\":\"\"}}}],\"scatterpolar\":[{\"type\":\"scatterpolar\",\"marker\":{\"colorbar\":{\"outlinewidth\":0,\"ticks\":\"\"}}}],\"histogram\":[{\"marker\":{\"pattern\":{\"fillmode\":\"overlay\",\"size\":10,\"solidity\":0.2}},\"type\":\"histogram\"}],\"scattergl\":[{\"type\":\"scattergl\",\"marker\":{\"colorbar\":{\"outlinewidth\":0,\"ticks\":\"\"}}}],\"scatter3d\":[{\"type\":\"scatter3d\",\"line\":{\"colorbar\":{\"outlinewidth\":0,\"ticks\":\"\"}},\"marker\":{\"colorbar\":{\"outlinewidth\":0,\"ticks\":\"\"}}}],\"scattermapbox\":[{\"type\":\"scattermapbox\",\"marker\":{\"colorbar\":{\"outlinewidth\":0,\"ticks\":\"\"}}}],\"scatterternary\":[{\"type\":\"scatterternary\",\"marker\":{\"colorbar\":{\"outlinewidth\":0,\"ticks\":\"\"}}}],\"scattercarpet\":[{\"type\":\"scattercarpet\",\"marker\":{\"colorbar\":{\"outlinewidth\":0,\"ticks\":\"\"}}}],\"carpet\":[{\"aaxis\":{\"endlinecolor\":\"#2a3f5f\",\"gridcolor\":\"white\",\"linecolor\":\"white\",\"minorgridcolor\":\"white\",\"startlinecolor\":\"#2a3f5f\"},\"baxis\":{\"endlinecolor\":\"#2a3f5f\",\"gridcolor\":\"white\",\"linecolor\":\"white\",\"minorgridcolor\":\"white\",\"startlinecolor\":\"#2a3f5f\"},\"type\":\"carpet\"}],\"table\":[{\"cells\":{\"fill\":{\"color\":\"#EBF0F8\"},\"line\":{\"color\":\"white\"}},\"header\":{\"fill\":{\"color\":\"#C8D4E3\"},\"line\":{\"color\":\"white\"}},\"type\":\"table\"}],\"barpolar\":[{\"marker\":{\"line\":{\"color\":\"#E5ECF6\",\"width\":0.5},\"pattern\":{\"fillmode\":\"overlay\",\"size\":10,\"solidity\":0.2}},\"type\":\"barpolar\"}],\"pie\":[{\"automargin\":true,\"type\":\"pie\"}]},\"layout\":{\"autotypenumbers\":\"strict\",\"colorway\":[\"#636efa\",\"#EF553B\",\"#00cc96\",\"#ab63fa\",\"#FFA15A\",\"#19d3f3\",\"#FF6692\",\"#B6E880\",\"#FF97FF\",\"#FECB52\"],\"font\":{\"color\":\"#2a3f5f\"},\"hovermode\":\"closest\",\"hoverlabel\":{\"align\":\"left\"},\"paper_bgcolor\":\"white\",\"plot_bgcolor\":\"#E5ECF6\",\"polar\":{\"bgcolor\":\"#E5ECF6\",\"angularaxis\":{\"gridcolor\":\"white\",\"linecolor\":\"white\",\"ticks\":\"\"},\"radialaxis\":{\"gridcolor\":\"white\",\"linecolor\":\"white\",\"ticks\":\"\"}},\"ternary\":{\"bgcolor\":\"#E5ECF6\",\"aaxis\":{\"gridcolor\":\"white\",\"linecolor\":\"white\",\"ticks\":\"\"},\"baxis\":{\"gridcolor\":\"white\",\"linecolor\":\"white\",\"ticks\":\"\"},\"caxis\":{\"gridcolor\":\"white\",\"linecolor\":\"white\",\"ticks\":\"\"}},\"coloraxis\":{\"colorbar\":{\"outlinewidth\":0,\"ticks\":\"\"}},\"colorscale\":{\"sequential\":[[0.0,\"#0d0887\"],[0.1111111111111111,\"#46039f\"],[0.2222222222222222,\"#7201a8\"],[0.3333333333333333,\"#9c179e\"],[0.4444444444444444,\"#bd3786\"],[0.5555555555555556,\"#d8576b\"],[0.6666666666666666,\"#ed7953\"],[0.7777777777777778,\"#fb9f3a\"],[0.8888888888888888,\"#fdca26\"],[1.0,\"#f0f921\"]],\"sequentialminus\":[[0.0,\"#0d0887\"],[0.1111111111111111,\"#46039f\"],[0.2222222222222222,\"#7201a8\"],[0.3333333333333333,\"#9c179e\"],[0.4444444444444444,\"#bd3786\"],[0.5555555555555556,\"#d8576b\"],[0.6666666666666666,\"#ed7953\"],[0.7777777777777778,\"#fb9f3a\"],[0.8888888888888888,\"#fdca26\"],[1.0,\"#f0f921\"]],\"diverging\":[[0,\"#8e0152\"],[0.1,\"#c51b7d\"],[0.2,\"#de77ae\"],[0.3,\"#f1b6da\"],[0.4,\"#fde0ef\"],[0.5,\"#f7f7f7\"],[0.6,\"#e6f5d0\"],[0.7,\"#b8e186\"],[0.8,\"#7fbc41\"],[0.9,\"#4d9221\"],[1,\"#276419\"]]},\"xaxis\":{\"gridcolor\":\"white\",\"linecolor\":\"white\",\"ticks\":\"\",\"title\":{\"standoff\":15},\"zerolinecolor\":\"white\",\"automargin\":true,\"zerolinewidth\":2},\"yaxis\":{\"gridcolor\":\"white\",\"linecolor\":\"white\",\"ticks\":\"\",\"title\":{\"standoff\":15},\"zerolinecolor\":\"white\",\"automargin\":true,\"zerolinewidth\":2},\"scene\":{\"xaxis\":{\"backgroundcolor\":\"#E5ECF6\",\"gridcolor\":\"white\",\"linecolor\":\"white\",\"showbackground\":true,\"ticks\":\"\",\"zerolinecolor\":\"white\",\"gridwidth\":2},\"yaxis\":{\"backgroundcolor\":\"#E5ECF6\",\"gridcolor\":\"white\",\"linecolor\":\"white\",\"showbackground\":true,\"ticks\":\"\",\"zerolinecolor\":\"white\",\"gridwidth\":2},\"zaxis\":{\"backgroundcolor\":\"#E5ECF6\",\"gridcolor\":\"white\",\"linecolor\":\"white\",\"showbackground\":true,\"ticks\":\"\",\"zerolinecolor\":\"white\",\"gridwidth\":2}},\"shapedefaults\":{\"line\":{\"color\":\"#2a3f5f\"}},\"annotationdefaults\":{\"arrowcolor\":\"#2a3f5f\",\"arrowhead\":0,\"arrowwidth\":1},\"geo\":{\"bgcolor\":\"white\",\"landcolor\":\"#E5ECF6\",\"subunitcolor\":\"white\",\"showland\":true,\"showlakes\":true,\"lakecolor\":\"white\"},\"title\":{\"x\":0.05},\"mapbox\":{\"style\":\"light\"}}},\"geo\":{\"domain\":{\"x\":[0.0,1.0],\"y\":[0.0,1.0]},\"center\":{}},\"coloraxis\":{\"colorbar\":{\"title\":{\"text\":\"total_bookings\"}},\"colorscale\":[[0.0,\"rgb(255,245,240)\"],[0.125,\"rgb(254,224,210)\"],[0.25,\"rgb(252,187,161)\"],[0.375,\"rgb(252,146,114)\"],[0.5,\"rgb(251,106,74)\"],[0.625,\"rgb(239,59,44)\"],[0.75,\"rgb(203,24,29)\"],[0.875,\"rgb(165,15,21)\"],[1.0,\"rgb(103,0,13)\"]]},\"legend\":{\"tracegroupgap\":0},\"title\":{\"text\":\"Geographical Distribution of Bookings\"}},                        {\"responsive\": true}                    ).then(function(){\n",
       "                            \n",
       "var gd = document.getElementById('f5f91a01-f9ee-41ad-8e78-e0b3a35358d0');\n",
       "var x = new MutationObserver(function (mutations, observer) {{\n",
       "        var display = window.getComputedStyle(gd).display;\n",
       "        if (!display || display === 'none') {{\n",
       "            console.log([gd, 'removed!']);\n",
       "            Plotly.purge(gd);\n",
       "            observer.disconnect();\n",
       "        }}\n",
       "}});\n",
       "\n",
       "// Listen for the removal of the full notebook cells\n",
       "var notebookContainer = gd.closest('#notebook-container');\n",
       "if (notebookContainer) {{\n",
       "    x.observe(notebookContainer, {childList: true});\n",
       "}}\n",
       "\n",
       "// Listen for the clearing of the current output cell\n",
       "var outputEl = gd.closest('.output');\n",
       "if (outputEl) {{\n",
       "    x.observe(outputEl, {childList: true});\n",
       "}}\n",
       "\n",
       "                        })                };                            </script>        </div>\n",
       "</body>\n",
       "</html>"
      ]
     },
     "metadata": {},
     "output_type": "display_data"
    }
   ],
   "source": [
    "import plotly.express as px\n",
    "\n",
    "fig = px.choropleth(\n",
    "    country_data,\n",
    "    locations='country',\n",
    "    locationmode='ISO-3',\n",
    "    color='total_bookings',\n",
    "    color_continuous_scale='Reds',\n",
    "    title='Geographical Distribution of Bookings'\n",
    ")\n",
    "\n",
    "fig.write_html(\"/kaggle/working/plots/geo_dist.html\")\n",
    "fig.show(renderer='colab')\n"
   ]
  },
  {
   "cell_type": "code",
   "execution_count": 31,
   "id": "73546ee4",
   "metadata": {
    "execution": {
     "iopub.execute_input": "2025-03-19T05:12:32.367573Z",
     "iopub.status.busy": "2025-03-19T05:12:32.367201Z",
     "iopub.status.idle": "2025-03-19T05:12:32.379829Z",
     "shell.execute_reply": "2025-03-19T05:12:32.378738Z"
    },
    "papermill": {
     "duration": 0.028901,
     "end_time": "2025-03-19T05:12:32.381574",
     "exception": false,
     "start_time": "2025-03-19T05:12:32.352673",
     "status": "completed"
    },
    "tags": []
   },
   "outputs": [
    {
     "data": {
      "text/plain": [
       "count    86112.000000\n",
       "mean        97.412614\n",
       "std        105.703544\n",
       "min          0.000000\n",
       "25%         15.000000\n",
       "50%         59.000000\n",
       "75%        148.000000\n",
       "max        737.000000\n",
       "Name: lead_time, dtype: float64"
      ]
     },
     "execution_count": 31,
     "metadata": {},
     "output_type": "execute_result"
    }
   ],
   "source": [
    "df.lead_time.describe()"
   ]
  },
  {
   "cell_type": "code",
   "execution_count": 32,
   "id": "14adace7",
   "metadata": {
    "execution": {
     "iopub.execute_input": "2025-03-19T05:12:32.410185Z",
     "iopub.status.busy": "2025-03-19T05:12:32.409720Z",
     "iopub.status.idle": "2025-03-19T05:12:33.402387Z",
     "shell.execute_reply": "2025-03-19T05:12:33.401200Z"
    },
    "papermill": {
     "duration": 1.008891,
     "end_time": "2025-03-19T05:12:33.404299",
     "exception": false,
     "start_time": "2025-03-19T05:12:32.395408",
     "status": "completed"
    },
    "tags": []
   },
   "outputs": [
    {
     "name": "stderr",
     "output_type": "stream",
     "text": [
      "/usr/local/lib/python3.10/dist-packages/seaborn/_oldcore.py:1119: FutureWarning:\n",
      "\n",
      "use_inf_as_na option is deprecated and will be removed in a future version. Convert inf values to NaN before operating instead.\n",
      "\n"
     ]
    },
    {
     "data": {
      "image/png": "[encoded data removed]",
      "text/plain": [
       "<Figure size 1000x500 with 1 Axes>"
      ]
     },
     "metadata": {},
     "output_type": "display_data"
    }
   ],
   "source": [
    "plt.figure(figsize=(10, 5))\n",
    "sns.histplot(df['lead_time'], bins=50, kde=True, color='royalblue')\n",
    "\n",
    "plt.title('Distribution of Lead Time', fontsize=14, fontweight='bold')\n",
    "plt.xlabel('Lead Time (Days)', fontsize=12)\n",
    "plt.ylabel('Frequency', fontsize=12)\n",
    "plt.grid(True, linestyle='--', alpha=0.6)\n",
    "plt.savefig(\"/kaggle/working/plots/distribution_lead_time.png\")\n",
    "plt.show()"
   ]
  },
  {
   "cell_type": "code",
   "execution_count": 33,
   "id": "b982e7d9",
   "metadata": {
    "execution": {
     "iopub.execute_input": "2025-03-19T05:12:33.435698Z",
     "iopub.status.busy": "2025-03-19T05:12:33.435315Z",
     "iopub.status.idle": "2025-03-19T05:12:34.495419Z",
     "shell.execute_reply": "2025-03-19T05:12:34.494198Z"
    },
    "papermill": {
     "duration": 1.079008,
     "end_time": "2025-03-19T05:12:34.498513",
     "exception": false,
     "start_time": "2025-03-19T05:12:33.419505",
     "status": "completed"
    },
    "tags": []
   },
   "outputs": [
    {
     "name": "stderr",
     "output_type": "stream",
     "text": [
      "<ipython-input-33-f1ea994d8893>:1: UserWarning:\n",
      "\n",
      "Could not infer format, so each element will be parsed individually, falling back to `dateutil`. To ensure parsing is consistent and as-expected, please specify a format.\n",
      "\n",
      "/usr/local/lib/python3.10/dist-packages/seaborn/_oldcore.py:1119: FutureWarning:\n",
      "\n",
      "use_inf_as_na option is deprecated and will be removed in a future version. Convert inf values to NaN before operating instead.\n",
      "\n",
      "/usr/local/lib/python3.10/dist-packages/seaborn/_oldcore.py:1119: FutureWarning:\n",
      "\n",
      "use_inf_as_na option is deprecated and will be removed in a future version. Convert inf values to NaN before operating instead.\n",
      "\n"
     ]
    },
    {
     "data": {
      "image/png": "[encoded data removed]",
      "text/plain": [
       "<Figure size 1200x600 with 1 Axes>"
      ]
     },
     "metadata": {},
     "output_type": "display_data"
    }
   ],
   "source": [
    "df['month'] = pd.to_datetime(df['arrival_date_year'].astype(str) + '-' + df['arrival_date_month'])\n",
    "lead_time_trend = df.groupby('month')['lead_time'].mean().reset_index()\n",
    "\n",
    "plt.figure(figsize=(12, 6))\n",
    "sns.lineplot(data=lead_time_trend, x='month', y='lead_time', marker='o', linewidth=2.5, color='royalblue')\n",
    "\n",
    "plt.title('Average Lead Time Over Time', fontsize=14, fontweight='bold')\n",
    "plt.xlabel('Month', fontsize=12)\n",
    "plt.ylabel('Average Lead Time (Days)', fontsize=12)\n",
    "plt.xticks(rotation=45)\n",
    "plt.grid(True, linestyle='--', alpha=0.6)\n",
    "plt.savefig(\"/kaggle/working/plots/average_lead_time_trend.png\")\n",
    "\n",
    "plt.show()\n"
   ]
  },
  {
   "cell_type": "code",
   "execution_count": 34,
   "id": "d3e43d47",
   "metadata": {
    "execution": {
     "iopub.execute_input": "2025-03-19T05:12:34.546048Z",
     "iopub.status.busy": "2025-03-19T05:12:34.545627Z",
     "iopub.status.idle": "2025-03-19T05:12:34.613016Z",
     "shell.execute_reply": "2025-03-19T05:12:34.611853Z"
    },
    "papermill": {
     "duration": 0.086969,
     "end_time": "2025-03-19T05:12:34.615039",
     "exception": false,
     "start_time": "2025-03-19T05:12:34.528070",
     "status": "completed"
    },
    "tags": []
   },
   "outputs": [
    {
     "name": "stdout",
     "output_type": "stream",
     "text": [
      "<class 'pandas.core.frame.DataFrame'>\n",
      "Index: 86112 entries, 0 to 107072\n",
      "Data columns (total 33 columns):\n",
      " #   Column                          Non-Null Count  Dtype         \n",
      "---  ------                          --------------  -----         \n",
      " 0   hotel                           86112 non-null  object        \n",
      " 1   is_canceled                     86112 non-null  int64         \n",
      " 2   lead_time                       86112 non-null  int64         \n",
      " 3   arrival_date_year               86112 non-null  int64         \n",
      " 4   arrival_date_month              86112 non-null  object        \n",
      " 5   arrival_date_week_number        86112 non-null  int64         \n",
      " 6   arrival_date_day_of_month       86112 non-null  int64         \n",
      " 7   stays_in_weekend_nights         86112 non-null  int64         \n",
      " 8   stays_in_week_nights            86112 non-null  int64         \n",
      " 9   adults                          86112 non-null  int64         \n",
      " 10  children                        86112 non-null  float64       \n",
      " 11  babies                          86112 non-null  int64         \n",
      " 12  meal                            86112 non-null  object        \n",
      " 13  country                         86112 non-null  object        \n",
      " 14  market_segment                  86112 non-null  object        \n",
      " 15  distribution_channel            86112 non-null  object        \n",
      " 16  is_repeated_guest               86112 non-null  int64         \n",
      " 17  previous_cancellations          86112 non-null  int64         \n",
      " 18  previous_bookings_not_canceled  86112 non-null  int64         \n",
      " 19  reserved_room_type              86112 non-null  object        \n",
      " 20  assigned_room_type              86112 non-null  object        \n",
      " 21  booking_changes                 86112 non-null  int64         \n",
      " 22  deposit_type                    86112 non-null  object        \n",
      " 23  days_in_waiting_list            86112 non-null  int64         \n",
      " 24  customer_type                   86112 non-null  object        \n",
      " 25  adr                             86112 non-null  float64       \n",
      " 26  required_car_parking_spaces     86112 non-null  int64         \n",
      " 27  total_of_special_requests       86112 non-null  int64         \n",
      " 28  reservation_status              86112 non-null  object        \n",
      " 29  reservation_status_date         86112 non-null  datetime64[ns]\n",
      " 30  revenue                         86112 non-null  float64       \n",
      " 31  check_in_date                   86112 non-null  datetime64[ns]\n",
      " 32  month                           86112 non-null  datetime64[ns]\n",
      "dtypes: datetime64[ns](3), float64(3), int64(16), object(11)\n",
      "memory usage: 22.3+ MB\n"
     ]
    }
   ],
   "source": [
    "df.info()"
   ]
  },
  {
   "cell_type": "code",
   "execution_count": 35,
   "id": "8ccbf541",
   "metadata": {
    "execution": {
     "iopub.execute_input": "2025-03-19T05:12:34.657847Z",
     "iopub.status.busy": "2025-03-19T05:12:34.657507Z",
     "iopub.status.idle": "2025-03-19T05:12:34.663028Z",
     "shell.execute_reply": "2025-03-19T05:12:34.662047Z"
    },
    "papermill": {
     "duration": 0.024617,
     "end_time": "2025-03-19T05:12:34.664768",
     "exception": false,
     "start_time": "2025-03-19T05:12:34.640151",
     "status": "completed"
    },
    "tags": []
   },
   "outputs": [],
   "source": [
    "df['children'] = df['children'].astype(int)"
   ]
  },
  {
   "cell_type": "code",
   "execution_count": 36,
   "id": "706eddf2",
   "metadata": {
    "execution": {
     "iopub.execute_input": "2025-03-19T05:12:34.698642Z",
     "iopub.status.busy": "2025-03-19T05:12:34.698291Z",
     "iopub.status.idle": "2025-03-19T05:12:34.706112Z",
     "shell.execute_reply": "2025-03-19T05:12:34.704990Z"
    },
    "papermill": {
     "duration": 0.026758,
     "end_time": "2025-03-19T05:12:34.707806",
     "exception": false,
     "start_time": "2025-03-19T05:12:34.681048",
     "status": "completed"
    },
    "tags": []
   },
   "outputs": [
    {
     "data": {
      "text/plain": [
       "0            Direct\n",
       "1            Direct\n",
       "2            Direct\n",
       "3         Corporate\n",
       "4             TA/TO\n",
       "            ...    \n",
       "106962        TA/TO\n",
       "107001        TA/TO\n",
       "107008        TA/TO\n",
       "107026        TA/TO\n",
       "107072        TA/TO\n",
       "Name: distribution_channel, Length: 86112, dtype: object"
      ]
     },
     "execution_count": 36,
     "metadata": {},
     "output_type": "execute_result"
    }
   ],
   "source": [
    "df['distribution_channel']"
   ]
  },
  {
   "cell_type": "code",
   "execution_count": 37,
   "id": "19e25a96",
   "metadata": {
    "execution": {
     "iopub.execute_input": "2025-03-19T05:12:34.743203Z",
     "iopub.status.busy": "2025-03-19T05:12:34.742678Z",
     "iopub.status.idle": "2025-03-19T05:12:34.756947Z",
     "shell.execute_reply": "2025-03-19T05:12:34.755870Z"
    },
    "papermill": {
     "duration": 0.034076,
     "end_time": "2025-03-19T05:12:34.758873",
     "exception": false,
     "start_time": "2025-03-19T05:12:34.724797",
     "status": "completed"
    },
    "tags": []
   },
   "outputs": [],
   "source": [
    "df.drop(['arrival_date_year', 'arrival_date_month', 'arrival_date_day_of_month', 'arrival_date_week_number', 'customer_type', 'required_car_parking_spaces', 'meal', 'market_segment', 'distribution_channel', 'previous_cancellations', 'previous_bookings_not_canceled', 'deposit_type'], axis = 1, inplace = True)"
   ]
  },
  {
   "cell_type": "code",
   "execution_count": 38,
   "id": "5f4eeedb",
   "metadata": {
    "execution": {
     "iopub.execute_input": "2025-03-19T05:12:34.793627Z",
     "iopub.status.busy": "2025-03-19T05:12:34.793182Z",
     "iopub.status.idle": "2025-03-19T05:12:35.573527Z",
     "shell.execute_reply": "2025-03-19T05:12:35.572154Z"
    },
    "papermill": {
     "duration": 0.800492,
     "end_time": "2025-03-19T05:12:35.575884",
     "exception": false,
     "start_time": "2025-03-19T05:12:34.775392",
     "status": "completed"
    },
    "tags": []
   },
   "outputs": [],
   "source": [
    "df.to_csv(\"/kaggle/working/hotel_data.csv\")"
   ]
  },
  {
   "cell_type": "code",
   "execution_count": null,
   "id": "3efb8a20",
   "metadata": {
    "papermill": {
     "duration": 0.016337,
     "end_time": "2025-03-19T05:12:35.608951",
     "exception": false,
     "start_time": "2025-03-19T05:12:35.592614",
     "status": "completed"
    },
    "tags": []
   },
   "outputs": [],
   "source": []
  }
 ],
 "metadata": {
  "kaggle": {
   "accelerator": "none",
   "dataSources": [
    {
     "datasetId": 511638,
     "sourceId": 944030,
     "sourceType": "datasetVersion"
    }
   ],
   "dockerImageVersionId": 30918,
   "isGpuEnabled": false,
   "isInternetEnabled": true,
   "language": "python",
   "sourceType": "notebook"
  },
  "kernelspec": {
   "display_name": "Python 3",
   "language": "python",
   "name": "python3"
  },
  "language_info": {
   "codemirror_mode": {
    "name": "ipython",
    "version": 3
   },
   "file_extension": ".py",
   "mimetype": "text/x-python",
   "name": "python",
   "nbconvert_exporter": "python",
   "pygments_lexer": "ipython3",
   "version": "3.10.12"
  },
  "papermill": {
   "default_parameters": {},
   "duration": 16.824983,
   "end_time": "2025-03-19T05:12:36.548770",
   "environment_variables": {},
   "exception": null,
   "input_path": "__notebook__.ipynb",
   "output_path": "__notebook__.ipynb",
   "parameters": {},
   "start_time": "2025-03-19T05:12:19.723787",
   "version": "2.6.0"
  }
 },
 "nbformat": 4,
 "nbformat_minor": 5
}
